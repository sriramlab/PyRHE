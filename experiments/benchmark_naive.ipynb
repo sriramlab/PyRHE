{
  "cells": [
    {
      "cell_type": "code",
      "execution_count": 63,
      "id": "34cad001",
      "metadata": {
        "colab": {
          "base_uri": "https://localhost:8080/"
        },
        "id": "34cad001",
        "outputId": "c58e1d49-e85a-49ce-9c08-3081c18d96fa"
      },
      "outputs": [],
      "source": [
        "import pandas as pd\n",
        "import numpy as np\n",
        "import scipy\n",
        "from sklearn.preprocessing import StandardScaler\n",
        "from bed_reader import open_bed, sample_file"
      ]
    },
    {
      "cell_type": "code",
      "execution_count": 64,
      "id": "220d3bc3",
      "metadata": {
        "id": "220d3bc3"
      },
      "outputs": [],
      "source": [
        "def simulator(X, sigma):\n",
        "    '''\n",
        "    Simulate phenotype y from X and sigmas\n",
        "    '''\n",
        "    N = X.shape[0]\n",
        "    M = X.shape[1]\n",
        "    y = np.zeros((N,1))\n",
        "    sigma_epsilon=1 - sigma # environmental effect sizes\n",
        "    betas = np.random.randn(M,1)*np.sqrt(sigma) # additive SNP effect sizes\n",
        "    y += X@betas/np.sqrt(M)\n",
        "    #print(f'sigma_epislon={sigma_epsilon}')\n",
        "    y += np.random.randn(N,1)*np.sqrt(sigma_epsilon) # add the effect sizes\n",
        "    return y, betas\n",
        "\n",
        "def solve_linear_equation(X, y):\n",
        "    '''\n",
        "    Solve least square\n",
        "    '''\n",
        "    sigma = np.linalg.lstsq(X, y, rcond=None)[0]\n",
        "    return sigma\n",
        "\n",
        "\n",
        "def solve_linear_qr(X, y):\n",
        "    '''\n",
        "    Solve least square using QR decomposition\n",
        "    '''\n",
        "    Q, R = scipy.linalg.qr(X)\n",
        "    sigma = scipy.linalg.solve_triangular(R, np.dot(Q.T, y))\n",
        "    return sigma\n",
        "\n",
        "def RHE(X,y,num_random_vect=10,seed=1,verbose=False):\n",
        "    '''\n",
        "    RHE estimation\n",
        "    '''\n",
        "    np.random.seed(seed)\n",
        "    N = X.shape[0]\n",
        "    M = X.shape[1]\n",
        "    T = np.zeros((2,2))\n",
        "    q = np.zeros((2,1))\n",
        "\n",
        "    Xi = X.copy()/np.sqrt(M)\n",
        "    for _ in range(num_random_vect):\n",
        "        # Generate random vector to estimate trace\n",
        "        rand_vector = np.random.randn(N,1)\n",
        "        T[0,0] += rand_vector.T@Xi@Xi.T@Xi@Xi.T@rand_vector/num_random_vect\n",
        "\n",
        "    T[1,0] = np.trace(Xi@Xi.T)\n",
        "    T[0,1] = T[1,0]\n",
        "    T[1,1] = N\n",
        "\n",
        "    q[0] = y.T@Xi@Xi.T@y\n",
        "    q[1] = y.T@y\n",
        "\n",
        "    if verbose:\n",
        "        print(T)\n",
        "    sigma_est = solve_linear_equation(T,q)\n",
        "    return sigma_est\n",
        "\n",
        "\n",
        "def HE (X, y, verbose = False):\n",
        "    '''\n",
        "    HE estimation (without using random vectors)\n",
        "    '''\n",
        "    N = X.shape[0]\n",
        "    M = X.shape[1]\n",
        "    T = np.zeros((2,2))\n",
        "    q = np.zeros((2,1))\n",
        "\n",
        "    Xi = X.copy()/np.sqrt(M)\n",
        "    T[0,0] = np.trace(Xi@Xi.T@Xi@Xi.T)\n",
        "    T[1,0] = np.trace(Xi@Xi.T)\n",
        "    T[0,1] = T[1,0]\n",
        "    T[1,1] = N\n",
        "\n",
        "    q[0] = y.T@Xi@Xi.T@y\n",
        "    q[1] = y.T@y\n",
        "\n",
        "    if verbose:\n",
        "        print(T)\n",
        "\n",
        "    sigma_est = solve_linear_equation(T,q)\n",
        "    return sigma_est"
      ]
    },
    {
      "cell_type": "markdown",
      "id": "f60f735f",
      "metadata": {
        "id": "f60f735f"
      },
      "source": [
        "## In the cell below, we simulate the genotype matrix by taking random samples of the MAF for each SNP from a uniform distribution. Then for each individual (based on the MAF of that SNP), run a Bernoulli trial to get the genotype value at that location (i.e., whether the individual has the SNP or not; either 0,1 or 2)\n",
        "I'll also share the genotype matrices for you to benchmark RHE and the python version (here), but this a very simple simulation. For instance, here we don't consider the LD structure here at all."
      ]
    },
    {
      "cell_type": "code",
      "execution_count": 65,
      "id": "f794da77",
      "metadata": {
        "colab": {
          "base_uri": "https://localhost:8080/"
        },
        "id": "f794da77",
        "outputId": "9a8ea9ba-2164-467f-ec28-856b52f9615a"
      },
      "outputs": [
        {
          "name": "stdout",
          "output_type": "stream",
          "text": [
            "Actual sigmas are: 0.3\n",
            "RHE estimated sigmas are: [0.27646048] [0.71014217] \n",
            "HE estimated sigmas are: [0.28039846] [0.7062042]\n"
          ]
        }
      ],
      "source": [
        "M=100 # M = 500000\n",
        "N=10000  # N=300000\n",
        "target_index=1\n",
        "sigmas_list=[0.3]\n",
        "# t0 = time()\n",
        "for i in range(1):\n",
        "    np.random.seed(i)\n",
        "    sigmas=sigmas_list[i]\n",
        "\n",
        "    MAFs = np.random.uniform(0.01,0.5,M)\n",
        "\n",
        "    P_matrix = np.tile(MAFs, (N, 1))\n",
        "\n",
        "    # num of success in 2 trials\n",
        "    X = np.random.binomial(2, P_matrix) # X here is the un-standardized, raw genotype matrix (entries are 0, 1, or 2)\n",
        "\n",
        "    X = StandardScaler().fit_transform(X) # standardize X\n",
        "\n",
        "    y, beta_list = simulator(X, sigmas) # generate phenotype with some beta values\n",
        "\n",
        "    print(f'Actual sigmas are: {sigmas}')\n",
        "    sigma_est=RHE(X,y,num_random_vect=10,seed=42) # run py-RHE\n",
        "    sigma_est2=HE(X, y)\n",
        "\n",
        "    print ('RHE estimated sigmas are:',*sigma_est, '\\nHE estimated sigmas are:', *sigma_est2)"
      ]
    },
    {
      "cell_type": "markdown",
      "id": "703ba44d",
      "metadata": {
        "id": "703ba44d"
      },
      "source": [
        "## And here's an (almost) identical code but instead of simulating genotype, it reads in the genotype file (.bed) using the bed-reader. One major difference is, in real genotype, there is often missingness, which needs to be imputed.\n",
        "### Here's one way of imputing: simply replace the missing values by the average of non-missing entries for that SNP. This is different than what's done in the RHE code.\n"
      ]
    },
    {
      "cell_type": "code",
      "execution_count": 66,
      "id": "e540a2a2",
      "metadata": {
        "id": "e540a2a2"
      },
      "outputs": [],
      "source": [
        "'''\n",
        "impute the genotype matrix for any missingness by using the average of other samples\n",
        "this function also standardizes it\n",
        "'''\n",
        "def impute_geno(X):\n",
        "    N = X.shape[0]\n",
        "    M = X.shape[1]\n",
        "    X_imp = X.copy()\n",
        "    for m in range(M):\n",
        "        cnt = 0\n",
        "        csum = 0\n",
        "        for n in range(N):\n",
        "            if not np.isnan(X[n, m]):\n",
        "                cnt += 1\n",
        "                csum += X[n,m]\n",
        "        csum /= cnt\n",
        "        X_imp[:,m] = np.nan_to_num(X_imp[:,m], nan=csum*0.5)\n",
        "    X_imp = (X_imp-np.mean(X_imp, axis=0))/np.std(X_imp, axis=0)\n",
        "    return X_imp"
      ]
    },
    {
      "cell_type": "code",
      "execution_count": 67,
      "id": "e0a3553b",
      "metadata": {
        "colab": {
          "base_uri": "https://localhost:8080/"
        },
        "id": "e0a3553b",
        "outputId": "0c1d5557-ddfd-40e0-a576-3a2345aa7fb9"
      },
      "outputs": [],
      "source": [
        "geno_path=\"/Users/nijiayi/RHE_project/data/geno/actual_geno_2.bed\"\n",
        "bed = open_bed(geno_path)\n",
        "X = bed.read()"
      ]
    },
    {
      "cell_type": "code",
      "execution_count": 68,
      "id": "63e3bcce",
      "metadata": {
        "id": "63e3bcce"
      },
      "outputs": [
        {
          "name": "stdout",
          "output_type": "stream",
          "text": [
            "[[-0.4663186  -0.55741537 -0.7589846  ...  1.027      -0.19661215\n",
            "   0.03636337]\n",
            " [-0.4663186  -0.55741537 -0.7589846  ...  1.027      -0.19661215\n",
            "  -1.3640823 ]\n",
            " [-0.4663186   3.5537736   2.564174   ...  1.027      -0.19661215\n",
            "  -1.3640823 ]\n",
            " ...\n",
            " [-0.4663186  -0.55741537 -0.7589846  ... -0.7142127  -0.19661215\n",
            "   0.03636337]\n",
            " [-0.4663186   1.4981791   0.9025947  ... -0.7142127  -0.19661215\n",
            "   1.4368091 ]\n",
            " [ 1.9504876  -0.55741537  0.9025947  ... -0.7142127  -0.19661215\n",
            "   1.4368091 ]]\n"
          ]
        }
      ],
      "source": [
        "X_imp = impute_geno(X)\n",
        "print(X_imp)"
      ]
    },
    {
      "cell_type": "code",
      "execution_count": 69,
      "id": "c5fda16b",
      "metadata": {
        "colab": {
          "base_uri": "https://localhost:8080/"
        },
        "id": "c5fda16b",
        "outputId": "4f1dbf59-3c3c-41ee-b3c1-067992b6df05"
      },
      "outputs": [
        {
          "name": "stdout",
          "output_type": "stream",
          "text": [
            "Actual sigmas are: 0.2\n",
            "RHE estimated sigmas are: [0.07946343] [0.95078576] \n",
            "HE estimated sigmas are: [0.07642521] [0.95382398]\n"
          ]
        }
      ],
      "source": [
        "sigma = 0.2\n",
        "y, beta_list = simulator(X_imp, sigma) # generate phenotype with some beta values\n",
        "\n",
        "print(f'Actual sigmas are: {sigma}')\n",
        "sigma_est=RHE(X_imp,y,num_random_vect=10,seed=42) # run py-RHE\n",
        "sigma_est2=HE(X_imp, y) # run exact-HE\n",
        "\n",
        "print ('RHE estimated sigmas are:',*sigma_est, '\\nHE estimated sigmas are:', *sigma_est2)"
      ]
    },
    {
      "cell_type": "markdown",
      "id": "41ed1dfd",
      "metadata": {
        "id": "41ed1dfd"
      },
      "source": [
        "## TODO: In the \"geno\" directory, you will find several genotype (.bed) files with multiple combinations of N (samples) and M (snps). As discussed in our meeting:\n",
        "\n",
        "## 1. Benchmark the python version of RHE & HE and the original, C++ version on those genotypes files and plot the run time (y-axis) against NxM (x-axis), and interpolate to large samples (UKBB) of 300k individuals x 454k SNPs.\n",
        "\n",
        "## 2. Repeat the same, but using the simulated genotypes\n",
        "For simulated phenotypes, to run it on the C++ RHE, you'd have to port the matrix into PLINK bed. Read https://zzz.bwh.harvard.edu/plink/binary.shtml for how the encoding works. You might also want to take a look at this documentation for packages that does it: https://rdrr.io/cran/genio/man/write_bed.html"
      ]
    },
    {
      "cell_type": "code",
      "execution_count": 70,
      "id": "EpsQDZJgRHE6",
      "metadata": {
        "id": "EpsQDZJgRHE6"
      },
      "outputs": [],
      "source": [
        "import numpy as np\n",
        "import time\n",
        "import matplotlib.pyplot as plt\n",
        "import glob\n",
        "from scipy.interpolate import interp1d"
      ]
    },
    {
      "cell_type": "code",
      "execution_count": 71,
      "id": "__Kptx9kQYEB",
      "metadata": {
        "colab": {
          "base_uri": "https://localhost:8080/"
        },
        "id": "__Kptx9kQYEB",
        "outputId": "9b1b91d9-0eda-4b6d-e18c-2aa890bbcb74"
      },
      "outputs": [
        {
          "name": "stdout",
          "output_type": "stream",
          "text": [
            "['/Users/nijiayi/RHE_project/data/geno/actual_geno_1.bed', '/Users/nijiayi/RHE_project/data/geno/actual_geno_2.bed', '/Users/nijiayi/RHE_project/data/geno/actual_geno_3.bed', '/Users/nijiayi/RHE_project/data/geno/actual_geno_4.bed', '/Users/nijiayi/RHE_project/data/geno/actual_geno_5.bed', '/Users/nijiayi/RHE_project/data/geno/actual_geno_6.bed', '/Users/nijiayi/RHE_project/data/geno/actual_geno_7.bed', '/Users/nijiayi/RHE_project/data/geno/actual_geno_8.bed', '/Users/nijiayi/RHE_project/data/geno/actual_geno_9.bed', '/Users/nijiayi/RHE_project/data/geno/actual_geno_10.bed', '/Users/nijiayi/RHE_project/data/geno/actual_geno_11.bed', '/Users/nijiayi/RHE_project/data/geno/actual_geno_12.bed', '/Users/nijiayi/RHE_project/data/geno/actual_geno_13.bed', '/Users/nijiayi/RHE_project/data/geno/actual_geno_14.bed', '/Users/nijiayi/RHE_project/data/geno/actual_geno_15.bed', '/Users/nijiayi/RHE_project/data/geno/actual_geno_16.bed']\n"
          ]
        }
      ],
      "source": [
        "rhe_runtimes = []\n",
        "he_runtimes = []\n",
        "nxm_values = []\n",
        "n_values = []\n",
        "m_values = []\n",
        "\n",
        "directory = \"/Users/nijiayi/RHE_project/data/geno/\"\n",
        "\n",
        "genotype_files = glob.glob(directory + \"actual_geno_*.bed\")\n",
        "\n",
        "genotype_files.sort(key=lambda x: int(x.split(\"_\")[-1].split(\".\")[0]))\n",
        "\n",
        "print(genotype_files)"
      ]
    },
    {
      "cell_type": "markdown",
      "id": "tJWP4gz0zcMa",
      "metadata": {
        "id": "tJWP4gz0zcMa"
      },
      "source": [
        "Using Actual Genotypes:"
      ]
    },
    {
      "cell_type": "code",
      "execution_count": 72,
      "id": "IY8sc9UdQirt",
      "metadata": {
        "id": "IY8sc9UdQirt"
      },
      "outputs": [],
      "source": [
        "simulated_pheno_matrices = []\n",
        "\n",
        "for geno_path in genotype_files:\n",
        "    bed = open_bed(geno_path)\n",
        "    X = bed.read()\n",
        "    nxm_values.append(X.shape[0] * X.shape[1])\n",
        "    n_values.append(X.shape[0])\n",
        "    m_values.append(X.shape[1])\n",
        "    X_imp = impute_geno(X)\n",
        "\n",
        "    np.random.seed(0)\n",
        "\n",
        "    sigma = 0.2\n",
        "    y, beta_list = simulator(X_imp, sigma) # Generate phenotype with some beta values\n",
        "    simulated_pheno_matrices.append(y)\n",
        "    \n",
        "\n",
        "    # runtime for RHE\n",
        "    start_time = time.time()\n",
        "    sigma_est = RHE(X_imp, y, num_random_vect=10, seed=42)\n",
        "    end_time = time.time()\n",
        "    rhe_runtime = end_time - start_time\n",
        "    rhe_runtimes.append(rhe_runtime)\n",
        "\n",
        "    # runtime for HE\n",
        "    start_time = time.time()\n",
        "    sigma_est2 = HE(X_imp, y)\n",
        "    end_time = time.time()\n",
        "    he_runtime = end_time - start_time\n",
        "    he_runtimes.append(he_runtime)"
      ]
    },
    {
      "cell_type": "code",
      "execution_count": 73,
      "id": "t6-REW2rgIw0",
      "metadata": {
        "id": "t6-REW2rgIw0"
      },
      "outputs": [],
      "source": [
        "data = list(zip(nxm_values, rhe_runtimes, he_runtimes))\n",
        "sorted_data = sorted(data, key=lambda x: x[0])\n",
        "sorted_nxm_values, sorted_rhe_runtimes, sorted_he_runtimes = zip(*sorted_data)"
      ]
    },
    {
      "cell_type": "code",
      "execution_count": 74,
      "id": "qzYp8Y5TRamP",
      "metadata": {
        "colab": {
          "base_uri": "https://localhost:8080/",
          "height": 472
        },
        "id": "qzYp8Y5TRamP",
        "outputId": "4c6aa8a2-112f-444d-c533-a14e765502b7"
      },
      "outputs": [
        {
          "data": {
            "image/png": "[encoded data removed]",
            "text/plain": [
              "<Figure size 640x480 with 1 Axes>"
            ]
          },
          "metadata": {},
          "output_type": "display_data"
        }
      ],
      "source": [
        "plt.plot(sorted_nxm_values, sorted_rhe_runtimes, label='RHE')\n",
        "plt.plot(sorted_nxm_values, sorted_he_runtimes, label='HE')\n",
        "plt.xlabel('NxM')\n",
        "plt.ylabel('Run Time (s)')\n",
        "plt.title('RHE and HE Python Run Times vs NxM of the Genotype Matrix')\n",
        "plt.legend()\n",
        "plt.show()"
      ]
    },
    {
      "cell_type": "code",
      "execution_count": 75,
      "id": "6ikmSPm_S0ff",
      "metadata": {
        "colab": {
          "base_uri": "https://localhost:8080/"
        },
        "id": "6ikmSPm_S0ff",
        "outputId": "5312772f-575e-4530-a928-e9537bb199b9"
      },
      "outputs": [
        {
          "name": "stdout",
          "output_type": "stream",
          "text": [
            "Interpolated RHE runtime with actual genotype file: 21617.547691059903 seconds\n",
            "Interpolated HE runtime with actual genotype file: 14434.61684241014 seconds\n"
          ]
        }
      ],
      "source": [
        "# interpolate\n",
        "ukbb_N = 300000\n",
        "ukbb_M = 454000\n",
        "\n",
        "rhe_interp_func = interp1d(sorted_nxm_values, sorted_rhe_runtimes, fill_value='extrapolate')\n",
        "he_interp_func = interp1d(sorted_nxm_values, sorted_he_runtimes, fill_value='extrapolate')\n",
        "\n",
        "rhe_interpolated = rhe_interp_func(ukbb_N * ukbb_M )\n",
        "he_interpolated = he_interp_func(ukbb_N * ukbb_M )\n",
        "\n",
        "print(f\"Interpolated RHE runtime with actual genotype file: {rhe_interpolated} seconds\")\n",
        "print(f\"Interpolated HE runtime with actual genotype file: {he_interpolated} seconds\")"
      ]
    },
    {
      "cell_type": "code",
      "execution_count": 76,
      "id": "cf70b419",
      "metadata": {},
      "outputs": [],
      "source": [
        "# for i, matrix in enumerate(simulated_pheno_matrices):\n",
        "#     file_name = f\"/Users/nijiayi/RHE_project/geno/simulated_pheno_{i+1}.pheno\"\n",
        "    \n",
        "#     with open(file_name, 'w') as f:\n",
        "#         num_rows = matrix.shape[0]\n",
        "        \n",
        "#         f.write(\"FID IID 1\\n\")\n",
        "        \n",
        "#         for row_idx in range(num_rows):\n",
        "#             fid = row_idx + 1  \n",
        "#             iid = 1 \n",
        "#             value = str(matrix[row_idx]).strip('[]')\n",
        "#             f.write(f\"{fid} {iid} {value}\\n\")"
      ]
    },
    {
      "cell_type": "code",
      "execution_count": 77,
      "id": "bf374efe",
      "metadata": {},
      "outputs": [],
      "source": [
        "# for i in range(len(m_values)):\n",
        "#     file_name = f\"/Users/nijiayi/RHE_project/geno/annot_{i+1}.txt\"\n",
        "#     num_cols = m_values[i]\n",
        "    \n",
        "#     annotation = [1] * num_cols\n",
        "    \n",
        "#     with open(file_name, 'w') as f:\n",
        "#         for value in annotation:\n",
        "#             f.write(f\"{value}\\n\")"
      ]
    },
    {
      "cell_type": "markdown",
      "id": "ZNDhRhGZUFuz",
      "metadata": {
        "id": "ZNDhRhGZUFuz"
      },
      "source": [
        "Using Simulated Genotypes:\n",
        "\n"
      ]
    },
    {
      "cell_type": "code",
      "execution_count": 78,
      "id": "J_aXxMOQUFSL",
      "metadata": {
        "id": "J_aXxMOQUFSL"
      },
      "outputs": [],
      "source": [
        "nxm_values_tuples_sim = []\n",
        "nxm_values_sim = []\n",
        "rhe_runtimes_sim = []\n",
        "he_runtimes_sim = []\n",
        "geno_matrices = []\n",
        "pheno_matrices = []\n",
        "n_values_sim = []\n",
        "m_values_sim = []\n",
        "\n",
        "\n",
        "for geno_path in genotype_files:\n",
        "    bed = open_bed(geno_path)\n",
        "    X = bed.read()\n",
        "\n",
        "    N = X.shape[0]\n",
        "    M = X.shape[1]\n",
        "\n",
        "    nxm_values_tuples_sim.append((N, M))\n",
        "    nxm_values_sim.append(N*M)\n",
        "    n_values_sim.append(N)\n",
        "    m_values_sim.append(M)\n",
        "\n",
        "    np.random.seed(0)\n",
        "\n",
        "    sigma = 0.3\n",
        "\n",
        "    MAFs = np.random.uniform(0.01, 0.5, M)\n",
        "    P_matrix = np.tile(MAFs, (N, 1))\n",
        "    X = np.random.binomial(2, P_matrix)\n",
        "\n",
        "    geno_matrices.append(X)\n",
        "\n",
        "    X = StandardScaler().fit_transform(X) # standardize X\n",
        "\n",
        "\n",
        "    y, beta_list = simulator(X, sigma)\n",
        "    pheno_matrices.append(y)\n",
        "\n",
        "\n",
        "    # runtime for RHE\n",
        "    start_time = time.time()\n",
        "    sigma_est = RHE(X, y, num_random_vect=10, seed=42)\n",
        "    end_time = time.time()\n",
        "    rhe_runtime_sim = end_time - start_time\n",
        "    rhe_runtimes_sim.append(rhe_runtime_sim)\n",
        "\n",
        "    # runtime for HE\n",
        "    start_time = time.time()\n",
        "    sigma_est2 = HE(X, y)\n",
        "    end_time = time.time()\n",
        "    he_runtime_sim = end_time - start_time\n",
        "    he_runtimes_sim.append(he_runtime_sim)"
      ]
    },
    {
      "cell_type": "code",
      "execution_count": 79,
      "id": "0O4LbfanX6Ge",
      "metadata": {
        "colab": {
          "base_uri": "https://localhost:8080/"
        },
        "id": "0O4LbfanX6Ge",
        "outputId": "f8b998f3-bff0-4386-ee15-5cd6b6c29cd6"
      },
      "outputs": [
        {
          "name": "stdout",
          "output_type": "stream",
          "text": [
            "[(1022, 996), (1022, 2811), (1022, 4570), (1022, 9205), (2030, 999), (2030, 2803), (2030, 4583), (2030, 9204), (3949, 1000), (3949, 2808), (3949, 4605), (3949, 9232), (496, 1001), (496, 2803), (496, 4577), (496, 9199)]\n"
          ]
        }
      ],
      "source": [
        "print(nxm_values_tuples_sim)\n",
        "\n",
        "data = list(zip(nxm_values_sim, rhe_runtimes_sim, he_runtimes_sim))\n",
        "sorted_data = sorted(data, key=lambda x: x[0])\n",
        "sorted_nxm_values_sim, sorted_rhe_runtimes_sim, sorted_he_runtimes_sim = zip(*sorted_data)"
      ]
    },
    {
      "cell_type": "code",
      "execution_count": 80,
      "id": "V1wyL9hTX85J",
      "metadata": {
        "colab": {
          "base_uri": "https://localhost:8080/",
          "height": 472
        },
        "id": "V1wyL9hTX85J",
        "outputId": "0f3091a2-0520-4264-c020-b4cbb8815ba6"
      },
      "outputs": [
        {
          "data": {
            "image/png": "[encoded data removed]",
            "text/plain": [
              "<Figure size 640x480 with 1 Axes>"
            ]
          },
          "metadata": {},
          "output_type": "display_data"
        }
      ],
      "source": [
        "plt.plot(sorted_nxm_values_sim, sorted_rhe_runtimes_sim, label='RHE')\n",
        "plt.plot(sorted_nxm_values_sim, sorted_he_runtimes_sim, label='HE')\n",
        "plt.xlabel('NxM')\n",
        "plt.ylabel('Run Time (s)')\n",
        "plt.title('RHE and HE Python Run Times vs NxM of the Simulated Genotype Matrix')\n",
        "plt.legend()\n",
        "plt.show()"
      ]
    },
    {
      "cell_type": "code",
      "execution_count": 81,
      "id": "1_usgDF1aEjP",
      "metadata": {
        "colab": {
          "base_uri": "https://localhost:8080/"
        },
        "id": "1_usgDF1aEjP",
        "outputId": "5f3c30f9-b8d3-4e32-a94e-838af5c6c4f3"
      },
      "outputs": [
        {
          "name": "stdout",
          "output_type": "stream",
          "text": [
            "Interpolated RHE runtime with simulated genotype file: 7327.014848294168 seconds\n",
            "Interpolated HE runtime with simulated genotype file: 30888.001761343956 seconds\n"
          ]
        }
      ],
      "source": [
        "ukbb_N = 300000\n",
        "ukbb_M = 454000\n",
        "\n",
        "rhe_interp_func = interp1d(sorted_nxm_values_sim, sorted_rhe_runtimes_sim, fill_value='extrapolate')\n",
        "he_interp_func = interp1d(sorted_nxm_values_sim, sorted_he_runtimes_sim, fill_value='extrapolate')\n",
        "\n",
        "rhe_interpolated = rhe_interp_func(ukbb_N * ukbb_M )\n",
        "he_interpolated = he_interp_func(ukbb_N * ukbb_M )\n",
        "\n",
        "print(f\"Interpolated RHE runtime with simulated genotype file: {rhe_interpolated} seconds\")\n",
        "print(f\"Interpolated HE runtime with simulated genotype file: {he_interpolated} seconds\")"
      ]
    },
    {
      "cell_type": "code",
      "execution_count": 82,
      "id": "c6c470e4",
      "metadata": {},
      "outputs": [
        {
          "ename": "FileNotFoundError",
          "evalue": "[Errno 2] No such file or directory: '/Users/nijiayi/RHE_project/simulated_geno/simulated_geno_1.fam'",
          "output_type": "error",
          "traceback": [
            "\u001b[0;31m---------------------------------------------------------------------------\u001b[0m",
            "\u001b[0;31mFileNotFoundError\u001b[0m                         Traceback (most recent call last)",
            "Cell \u001b[0;32mIn[82], line 5\u001b[0m\n\u001b[1;32m      2\u001b[0m \u001b[39mfor\u001b[39;00m i, X \u001b[39min\u001b[39;00m \u001b[39menumerate\u001b[39m(geno_matrices):\n\u001b[1;32m      3\u001b[0m     plink_bed_file \u001b[39m=\u001b[39m \u001b[39mf\u001b[39m\u001b[39m\"\u001b[39m\u001b[39m/Users/nijiayi/RHE_project/simulated_geno/simulated_geno_\u001b[39m\u001b[39m{\u001b[39;00mi\u001b[39m+\u001b[39m\u001b[39m1\u001b[39m\u001b[39m}\u001b[39;00m\u001b[39m.bed\u001b[39m\u001b[39m\"\u001b[39m\n\u001b[0;32m----> 5\u001b[0m     to_bed(plink_bed_file, X)\n",
            "File \u001b[0;32m~/miniconda3/envs/myenv3.9/lib/python3.9/site-packages/bed_reader/_to_bed.py:123\u001b[0m, in \u001b[0;36mto_bed\u001b[0;34m(filepath, val, properties, count_A1, fam_filepath, bim_filepath, force_python_only, num_threads)\u001b[0m\n\u001b[1;32m    117\u001b[0m sid_count \u001b[39m=\u001b[39m val\u001b[39m.\u001b[39mshape[\u001b[39m1\u001b[39m]\n\u001b[1;32m    119\u001b[0m properties, _ \u001b[39m=\u001b[39m open_bed\u001b[39m.\u001b[39m_fix_up_properties(\n\u001b[1;32m    120\u001b[0m     properties, iid_count\u001b[39m=\u001b[39miid_count, sid_count\u001b[39m=\u001b[39msid_count, use_fill_sequence\u001b[39m=\u001b[39m\u001b[39mTrue\u001b[39;00m\n\u001b[1;32m    121\u001b[0m )\n\u001b[0;32m--> 123\u001b[0m open_bed\u001b[39m.\u001b[39;49m_write_fam_or_bim(filepath, properties, \u001b[39m\"\u001b[39;49m\u001b[39mfam\u001b[39;49m\u001b[39m\"\u001b[39;49m, fam_filepath)\n\u001b[1;32m    124\u001b[0m open_bed\u001b[39m.\u001b[39m_write_fam_or_bim(filepath, properties, \u001b[39m\"\u001b[39m\u001b[39mbim\u001b[39m\u001b[39m\"\u001b[39m, bim_filepath)\n\u001b[1;32m    126\u001b[0m \u001b[39mif\u001b[39;00m \u001b[39mnot\u001b[39;00m force_python_only:\n",
            "File \u001b[0;32m~/miniconda3/envs/myenv3.9/lib/python3.9/site-packages/bed_reader/_open_bed.py:1063\u001b[0m, in \u001b[0;36mopen_bed._write_fam_or_bim\u001b[0;34m(base_filepath, properties, suffix, property_filepath)\u001b[0m\n\u001b[1;32m   1059\u001b[0m         fam_bim_list\u001b[39m.\u001b[39mappend(properties[key])\n\u001b[1;32m   1061\u001b[0m sep \u001b[39m=\u001b[39m \u001b[39m\"\u001b[39m\u001b[39m \u001b[39m\u001b[39m\"\u001b[39m \u001b[39mif\u001b[39;00m suffix \u001b[39m==\u001b[39m \u001b[39m\"\u001b[39m\u001b[39mfam\u001b[39m\u001b[39m\"\u001b[39m \u001b[39melse\u001b[39;00m \u001b[39m\"\u001b[39m\u001b[39m\\t\u001b[39;00m\u001b[39m\"\u001b[39m\n\u001b[0;32m-> 1063\u001b[0m \u001b[39mwith\u001b[39;00m \u001b[39mopen\u001b[39;49m(filepath, \u001b[39m\"\u001b[39;49m\u001b[39mw\u001b[39;49m\u001b[39m\"\u001b[39;49m) \u001b[39mas\u001b[39;00m filepointer:\n\u001b[1;32m   1064\u001b[0m     \u001b[39mfor\u001b[39;00m index \u001b[39min\u001b[39;00m \u001b[39mrange\u001b[39m(\u001b[39mlen\u001b[39m(fam_bim_list[\u001b[39m0\u001b[39m])):\n\u001b[1;32m   1065\u001b[0m         filepointer\u001b[39m.\u001b[39mwrite(\n\u001b[1;32m   1066\u001b[0m             sep\u001b[39m.\u001b[39mjoin(\u001b[39mstr\u001b[39m(seq[index]) \u001b[39mfor\u001b[39;00m seq \u001b[39min\u001b[39;00m fam_bim_list) \u001b[39m+\u001b[39m \u001b[39m\"\u001b[39m\u001b[39m\\n\u001b[39;00m\u001b[39m\"\u001b[39m\n\u001b[1;32m   1067\u001b[0m         )\n",
            "\u001b[0;31mFileNotFoundError\u001b[0m: [Errno 2] No such file or directory: '/Users/nijiayi/RHE_project/simulated_geno/simulated_geno_1.fam'"
          ]
        }
      ],
      "source": [
        "from bed_reader import to_bed\n",
        "for i, X in enumerate(geno_matrices):\n",
        "    plink_bed_file = f\"/Users/nijiayi/RHE_project/simulated_geno/simulated_geno_{i+1}.bed\"\n",
        "    \n",
        "    to_bed(plink_bed_file, X)"
      ]
    },
    {
      "cell_type": "code",
      "execution_count": null,
      "id": "63bdb9f7",
      "metadata": {},
      "outputs": [],
      "source": [
        "for i, matrix in enumerate(pheno_matrices):\n",
        "    file_name = f\"/Users/nijiayi/RHE_project/simulated_geno/simulated_pheno_{i+1}.pheno\"\n",
        "    \n",
        "    with open(file_name, 'w') as f:\n",
        "        num_rows = matrix.shape[0]\n",
        "        \n",
        "        f.write(\"FID IID 1\\n\")\n",
        "        \n",
        "        for row_idx in range(num_rows):\n",
        "            fid = row_idx + 1  \n",
        "            iid = 1 \n",
        "            value = str(matrix[row_idx]).strip('[]')\n",
        "            f.write(f\"{fid} {iid} {value}\\n\")"
      ]
    },
    {
      "cell_type": "code",
      "execution_count": null,
      "id": "ae2ceeb1",
      "metadata": {},
      "outputs": [],
      "source": [
        "for i in range(len(m_values_sim)):\n",
        "    file_name = f\"/Users/nijiayi/RHE_project/simulated_geno/annot_{i+1}.txt\"\n",
        "    num_cols = m_values_sim[i]\n",
        "    \n",
        "    annotation = [1] * num_cols\n",
        "    \n",
        "    with open(file_name, 'w') as f:\n",
        "        for value in annotation:\n",
        "            f.write(f\"{value}\\n\")"
      ]
    },
    {
      "cell_type": "markdown",
      "id": "z8-hAwuOzFbo",
      "metadata": {
        "id": "z8-hAwuOzFbo"
      },
      "source": [
        "## C++ Implementation benchmark:"
      ]
    },
    {
      "cell_type": "markdown",
      "id": "NpIL0Yf6zTwS",
      "metadata": {
        "id": "NpIL0Yf6zTwS"
      },
      "source": [
        "Using Actual Genotypes:"
      ]
    },
    {
      "cell_type": "code",
      "execution_count": null,
      "id": "kRvx3fyGzTMJ",
      "metadata": {
        "id": "kRvx3fyGzTMJ"
      },
      "outputs": [],
      "source": [
        "actual_geno_execution_times = [0.132262091, 0.201552158, 0.253092040, 0.377053214, 0.237690459, 0.346678904, 0.489713483, 0.774893473, 0.437158930, 0.681879563, 0.914160718, 1.468954855, 0.064500477, 0.101362606, 0.128528457, 0.227932024]\n",
        "data = list(zip(nxm_values, actual_geno_execution_times))\n",
        "sorted_data = sorted(data, key=lambda x: x[0])\n",
        "sorted_nxm_values, sorted_actual_geno_execution_times = zip(*sorted_data)"
      ]
    },
    {
      "cell_type": "code",
      "execution_count": null,
      "id": "ed516670",
      "metadata": {},
      "outputs": [
        {
          "data": {
            "image/png": "[encoded data removed]",
            "text/plain": [
              "<Figure size 640x480 with 1 Axes>"
            ]
          },
          "metadata": {},
          "output_type": "display_data"
        }
      ],
      "source": [
        "plt.plot(sorted_nxm_values, sorted_actual_geno_execution_times)\n",
        "plt.xlabel('NxM')\n",
        "plt.ylabel('Run Time (s)')\n",
        "plt.title('C++ Run Times vs NxM of the Genotype Matrix')\n",
        "plt.show()"
      ]
    },
    {
      "cell_type": "code",
      "execution_count": null,
      "id": "97a796aa",
      "metadata": {},
      "outputs": [
        {
          "name": "stdout",
          "output_type": "stream",
          "text": [
            "Interpolated C++ runtime with actual genotype file: 5318.838081185729 seconds\n"
          ]
        }
      ],
      "source": [
        "# interpolate\n",
        "c_interp_func = interp1d(sorted_nxm_values, sorted_actual_geno_execution_times, fill_value='extrapolate')\n",
        "c_interpolated = c_interp_func(ukbb_N * ukbb_M)\n",
        "\n",
        "print(f\"Interpolated C++ runtime with actual genotype file: {c_interpolated} seconds\")"
      ]
    },
    {
      "cell_type": "markdown",
      "id": "O5Jsn33rzWXr",
      "metadata": {
        "id": "O5Jsn33rzWXr"
      },
      "source": [
        "Using Simulated Genotypes:\n"
      ]
    },
    {
      "cell_type": "code",
      "execution_count": null,
      "id": "bpLXXDTGzN0g",
      "metadata": {
        "id": "bpLXXDTGzN0g"
      },
      "outputs": [],
      "source": [
        "simulated_geno_execution_times = [0.160342162, 0.224308442, 0.310958332, 0.426533087, 0.256985605, 0.389391332, 0.505496759, 0.828235604, 0.448995983, 0.664636709, 0.937940204, 1.529143772, 0.068184790, 0.108153753, 0.129247572, 0.224544534]\n",
        "data = list(zip(nxm_values_sim, simulated_geno_execution_times))\n",
        "sorted_data = sorted(data, key=lambda x: x[0])\n",
        "sorted_nxm_values_sim, sorted_simulated_geno_execution_times = zip(*sorted_data)"
      ]
    },
    {
      "cell_type": "code",
      "execution_count": null,
      "id": "148155f7",
      "metadata": {},
      "outputs": [
        {
          "data": {
            "image/png": "[encoded data removed]",
            "text/plain": [
              "<Figure size 640x480 with 1 Axes>"
            ]
          },
          "metadata": {},
          "output_type": "display_data"
        }
      ],
      "source": [
        "plt.plot(sorted_nxm_values_sim, sorted_simulated_geno_execution_times)\n",
        "plt.xlabel('NxM')\n",
        "plt.ylabel('Run Time (s)')\n",
        "plt.title('C++ Run Times vs NxM of the Simulated Genotype Matrix')\n",
        "plt.show()"
      ]
    },
    {
      "cell_type": "code",
      "execution_count": null,
      "id": "-jaTHqgJzIdz",
      "metadata": {
        "id": "-jaTHqgJzIdz"
      },
      "outputs": [
        {
          "name": "stdout",
          "output_type": "stream",
          "text": [
            "Interpolated C++ runtime with simulated genotype file: 5897.850677785796 seconds\n"
          ]
        }
      ],
      "source": [
        "# interpolate\n",
        "c_interp_func = interp1d(sorted_nxm_values_sim, sorted_simulated_geno_execution_times, fill_value='extrapolate')\n",
        "c_interpolated = c_interp_func(ukbb_N * ukbb_M)\n",
        "\n",
        "print(f\"Interpolated C++ runtime with simulated genotype file: {c_interpolated} seconds\")"
      ]
    },
    {
      "cell_type": "markdown",
      "id": "65a00019",
      "metadata": {
        "id": "65a00019"
      },
      "source": [
        "## 3*.  If you are able to do these and get some sensible results, one extra task is to take a look at how RHE imputes & standardizes the genotype matrix, and see if you can implement it in python"
      ]
    },
    {
      "cell_type": "code",
      "execution_count": null,
      "id": "fb985452",
      "metadata": {},
      "outputs": [],
      "source": [
        "def simulate_geno_from_random(p_j):\n",
        "    rval = np.random.random()\n",
        "    dist_pj = [(1-p_j)*(1-p_j), 2*p_j*(1-p_j), p_j*p_j]\n",
        "    \n",
        "    if rval < dist_pj[0]:\n",
        "        return 0\n",
        "    elif rval >= dist_pj[0] and rval < (dist_pj[0] + dist_pj[1]):\n",
        "        return 1\n",
        "    else:\n",
        "        return 2"
      ]
    },
    {
      "cell_type": "code",
      "execution_count": null,
      "id": "59008bb4",
      "metadata": {},
      "outputs": [],
      "source": [
        "# the encoding of the genotype matrix within the BED file is column by column (process snp1 for all individuals and then snp2)\n",
        "\n",
        "def impute_geno(X):\n",
        "    N = X.shape[0]\n",
        "    M = X.shape[1]\n",
        "    X_imp = X.copy()\n",
        "\n",
        "    for m in range(M):\n",
        "        \n",
        "        observed_sum = 0\n",
        "        observed_ct = 0\n",
        "        for n in range(N):\n",
        "            if not np.isnan(X[n, m]):\n",
        "                observed_ct += 1\n",
        "                observed_sum += X[n, m]\n",
        "        \n",
        "        observed_sum = (observed_sum  / observed_ct)* 0.5\n",
        "\n",
        "        for j in range(N):\n",
        "            if np.isnan(X[j,m]):\n",
        "                X_imp[j, m] = simulate_geno_from_random(observed_sum)\n",
        "                \n",
        "    # standardize\n",
        "    X_imp = (X_imp-np.mean(X_imp, axis=0))/np.std(X_imp, axis=0)\n",
        "\n",
        "    return X_imp"
      ]
    },
    {
      "cell_type": "code",
      "execution_count": null,
      "id": "281ce53e",
      "metadata": {},
      "outputs": [
        {
          "name": "stdout",
          "output_type": "stream",
          "text": [
            "[[-0.70710678 -0.70710678 -0.70710678  0.70710678]\n",
            " [-0.70710678 -0.70710678 -0.70710678  0.70710678]\n",
            " [ 1.41421356  1.41421356  1.41421356 -1.41421356]]\n"
          ]
        }
      ],
      "source": [
        "X = np.array([\n",
        "        [0, 1, np.nan, 2],\n",
        "        [np.nan, 1, 1, np.nan],\n",
        "        [1, 2, 2, 1]\n",
        "    ])\n",
        "\n",
        "X_imp = impute_geno(X)\n",
        "print(X_imp)"
      ]
    }
  ],
  "metadata": {
    "colab": {
      "provenance": [],
      "toc_visible": true
    },
    "kernelspec": {
      "display_name": "Python 3 (ipykernel)",
      "language": "python",
      "name": "python3"
    },
    "language_info": {
      "codemirror_mode": {
        "name": "ipython",
        "version": 3
      },
      "file_extension": ".py",
      "mimetype": "text/x-python",
      "name": "python",
      "nbconvert_exporter": "python",
      "pygments_lexer": "ipython3",
      "version": "3.9.16"
    }
  },
  "nbformat": 4,
  "nbformat_minor": 5
}
