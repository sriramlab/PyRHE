{
 "cells": [
  {
   "cell_type": "markdown",
   "metadata": {},
   "source": [
    "## Multibin"
   ]
  },
  {
   "cell_type": "code",
   "execution_count": 1,
   "metadata": {},
   "outputs": [],
   "source": [
    "from RHE.util.file_processing import read_annot"
   ]
  },
  {
   "cell_type": "code",
   "execution_count": null,
   "metadata": {},
   "outputs": [],
   "source": [
    "filename = '/Users/nijiayi/RHE_project/data/annot.txt'\n",
    "annot_matrix, jack_bin = read_annot(filename, 4)\n",
    "\n",
    "print(jack_bin)"
   ]
  },
  {
   "cell_type": "code",
   "execution_count": 135,
   "metadata": {},
   "outputs": [],
   "source": [
    "import numpy as np\n",
    "\n",
    "class Data:\n",
    "    def __init__(self):\n",
    "        self.gen = None\n",
    "        self.index = 0"
   ]
  },
  {
   "cell_type": "code",
   "execution_count": 136,
   "metadata": {},
   "outputs": [],
   "source": [
    "def bin_to_snp(annot_matrix_chunk): \n",
    "    bin_to_snp_indices = []\n",
    "\n",
    "    for bin_index in range(annot_matrix_chunk.shape[1]):\n",
    "        snp_indices = np.nonzero(annot_matrix_chunk[:, bin_index])[0]\n",
    "        bin_to_snp_indices.append(snp_indices.tolist())\n",
    "\n",
    "    return bin_to_snp_indices"
   ]
  },
  {
   "cell_type": "code",
   "execution_count": 137,
   "metadata": {},
   "outputs": [],
   "source": [
    "bin_to_snp_map = bin_to_snp(annot_matrix)"
   ]
  },
  {
   "cell_type": "code",
   "execution_count": 138,
   "metadata": {},
   "outputs": [],
   "source": [
    "def create_allgen(bin_to_snp_map, X):\n",
    "    allgen = [Data() for _ in range(len(bin_to_snp_map))]\n",
    "\n",
    "    for i, data in enumerate(allgen):\n",
    "        data.index = len(bin_to_snp_map[i])\n",
    "        data.gen = X[:, bin_to_snp_map[i]].T\n",
    "\n",
    "    return allgen"
   ]
  },
  {
   "cell_type": "code",
   "execution_count": 139,
   "metadata": {},
   "outputs": [],
   "source": [
    "from bed_reader import open_bed, sample_file\n",
    "\n",
    "geno_path=\"/Users/nijiayi/RHE_project/data/small.bed\"\n",
    "bed = open_bed(geno_path)\n",
    "X = bed.read()\n"
   ]
  },
  {
   "cell_type": "code",
   "execution_count": 140,
   "metadata": {},
   "outputs": [],
   "source": [
    "allgen = create_allgen(bin_to_snp_map, X)"
   ]
  },
  {
   "cell_type": "code",
   "execution_count": 141,
   "metadata": {},
   "outputs": [
    {
     "name": "stdout",
     "output_type": "stream",
     "text": [
      "3\n",
      "[[1. 1. 1. 0. 0. 1. 1. 0. 1. 0. 0. 0. 0. 1. 0. 0. 0. 0. 1. 0. 0. 0. 1. 1.\n",
      "  0. 0. 0. 0. 1. 0. 0. 2. 0. 0. 0. 1. 1. 0. 1. 1. 0. 1. 0. 0. 1. 1. 0. 0.\n",
      "  0. 0. 0. 1. 1. 0. 1. 1. 0. 0. 0. 0. 1. 0. 0. 0. 1. 1. 2. 2. 0. 0. 0. 0.\n",
      "  1. 1. 0. 0. 0. 1. 0. 0. 0. 1. 0. 0. 1. 0. 1. 0. 2. 1. 0. 0. 0. 0. 0. 1.\n",
      "  1. 1. 0. 0. 0. 1. 0. 0. 0. 0. 0. 1. 0. 0. 0. 1. 0. 1. 0. 0. 1. 0. 0. 0.\n",
      "  1. 0. 2. 0. 0. 1. 0. 1. 0. 0. 0. 1. 0. 0. 0. 0. 0. 0. 1. 0. 0. 0. 0. 0.\n",
      "  0. 0. 0. 0. 0. 0. 0. 0. 0. 1. 0. 0. 1. 1. 1. 0. 0. 1. 0. 0. 1. 0. 1. 0.\n",
      "  0. 1. 1. 0. 0. 0. 0. 0. 1. 0. 0. 0. 1. 0. 1. 0. 0. 0. 0. 0. 1. 1. 0. 1.\n",
      "  0. 1. 1. 0. 1. 0. 0. 1.]\n",
      " [0. 1. 0. 0. 0. 1. 1. 0. 0. 1. 1. 1. 1. 0. 1. 1. 1. 0. 1. 0. 1. 0. 1. 0.\n",
      "  1. 0. 1. 0. 1. 0. 1. 0. 0. 2. 0. 0. 1. 1. 0. 0. 0. 1. 0. 0. 1. 0. 1. 0.\n",
      "  1. 0. 0. 1. 0. 0. 2. 1. 1. 2. 1. 0. 0. 1. 0. 1. 1. 2. 1. 1. 0. 1. 0. 0.\n",
      "  1. 0. 0. 1. 0. 1. 2. 0. 0. 1. 1. 1. 0. 0. 0. 1. 0. 0. 0. 0. 0. 0. 1. 0.\n",
      "  1. 0. 1. 1. 1. 1. 1. 0. 0. 1. 2. 2. 2. 0. 1. 0. 0. 0. 0. 1. 2. 0. 0. 1.\n",
      "  0. 1. 0. 1. 1. 0. 0. 1. 0. 0. 2. 0. 1. 1. 0. 0. 0. 0. 0. 1. 0. 1. 0. 0.\n",
      "  0. 1. 1. 2. 1. 0. 0. 1. 1. 1. 1. 0. 1. 1. 1. 0. 0. 0. 0. 0. 0. 1. 0. 0.\n",
      "  1. 1. 1. 0. 0. 1. 0. 1. 0. 1. 1. 0. 0. 0. 0. 0. 1. 1. 0. 1. 0. 0. 0. 0.\n",
      "  0. 2. 0. 0. 1. 0. 1. 0.]\n",
      " [1. 0. 1. 0. 0. 1. 0. 1. 1. 1. 0. 1. 1. 1. 1. 0. 1. 0. 2. 0. 0. 1. 1. 1.\n",
      "  0. 2. 1. 1. 1. 0. 0. 0. 2. 0. 1. 2. 1. 1. 2. 0. 1. 0. 1. 0. 1. 2. 1. 0.\n",
      "  1. 0. 0. 0. 1. 0. 0. 1. 0. 1. 1. 1. 1. 0. 1. 0. 2. 1. 1. 1. 0. 0. 0. 0.\n",
      "  0. 0. 1. 0. 1. 1. 0. 0. 2. 0. 1. 1. 2. 1. 2. 1. 1. 0. 0. 0. 1. 1. 0. 1.\n",
      "  0. 0. 1. 0. 0. 1. 0. 2. 1. 1. 0. 1. 1. 0. 0. 0. 0. 0. 0. 0. 1. 1. 1. 1.\n",
      "  0. 0. 0. 1. 0. 0. 0. 0. 1. 0. 0. 0. 1. 1. 0. 0. 2. 1. 1. 2. 2. 1. 1. 1.\n",
      "  0. 0. 0. 2. 0. 1. 1. 0. 0. 0. 0. 0. 0. 0. 1. 1. 0. 0. 0. 0. 1. 0. 1. 1.\n",
      "  0. 0. 0. 0. 0. 0. 0. 0. 0. 0. 1. 1. 1. 2. 0. 1. 0. 2. 2. 1. 0. 1. 1. 0.\n",
      "  0. 1. 1. 0. 1. 1. 1. 1.]]\n"
     ]
    }
   ],
   "source": [
    "print(allgen[0].index)\n",
    "print(allgen[0].gen)"
   ]
  },
  {
   "cell_type": "code",
   "execution_count": 142,
   "metadata": {},
   "outputs": [],
   "source": [
    "import random\n",
    "\n",
    "def init_random_z(Nindv, Nz):\n",
    "    np.random.seed()  \n",
    "    return np.random.randn(Nindv, Nz) * np.sqrt(3)"
   ]
  },
  {
   "cell_type": "code",
   "execution_count": 143,
   "metadata": {},
   "outputs": [],
   "source": [
    "def compute_XXz(bin: Data, all_zb, mailman):\n",
    "    # TODO: mailman == True\n",
    "    num_snp = bin.index\n",
    "    gen = bin.gen\n",
    "\n",
    "    res = gen @ all_zb\n",
    "    Nz = np.shape(all_zb)[1]\n",
    "\n",
    "    means = np.mean(gen, axis=1)\n",
    "\n",
    "    # stds = np.std(gen, axis=1)\n",
    "    stds = 1 / np.sqrt(means * (1 - 0.5 * means)) # a sample’s value is a binomial random variable with n = 2\n",
    "\n",
    "    zb_sum = np.sum(all_zb, axis=0)\n",
    "\n",
    "    zb_sum = np.array(zb_sum).reshape(-1, 1)\n",
    "\n",
    "    for j in range(num_snp):\n",
    "        for k in range(Nz):\n",
    "            res[j, k] = res[j, k] * stds[j]\n",
    "\n",
    "    inter = np.array(means * stds).reshape(-1, 1)\n",
    "    resid =  inter @ zb_sum.T\n",
    "    inter_zb = res - resid\n",
    "\n",
    "    for k in range(Nz):\n",
    "        for j in range(num_snp):\n",
    "            inter_zb[j, k] = inter_zb[j, k] * stds[j]\n",
    "\n",
    "    new_zb = inter_zb.T\n",
    "    new_res = new_zb @ gen\n",
    "\n",
    "    \n",
    "    new_resid = new_zb @ np.array(means).reshape(-1, 1)\n",
    "    new_resid = new_resid * np.ones((1, np.shape(gen)[1]))\n",
    "\n",
    "    temp = new_res - new_resid\n",
    "    return temp.T"
   ]
  },
  {
   "cell_type": "code",
   "execution_count": 146,
   "metadata": {},
   "outputs": [
    {
     "name": "stdout",
     "output_type": "stream",
     "text": [
      "num snp per block 25\n",
      "Reading block 0\n",
      "(200, 10)\n",
      "(200, 10)\n",
      "(200, 10)\n",
      "(200, 10)\n",
      "(200, 10)\n",
      "(200, 10)\n",
      "(200, 10)\n",
      "(200, 10)\n",
      "num snp per block 25\n",
      "Reading block 1\n",
      "(200, 10)\n",
      "(200, 10)\n",
      "(200, 10)\n",
      "(200, 10)\n",
      "(200, 10)\n",
      "(200, 10)\n",
      "(200, 10)\n",
      "(200, 10)\n",
      "num snp per block 25\n",
      "Reading block 2\n",
      "(200, 10)\n",
      "(200, 10)\n",
      "(200, 10)\n",
      "(200, 10)\n",
      "(200, 10)\n",
      "(200, 10)\n",
      "(200, 10)\n",
      "(200, 10)\n",
      "num snp per block 25\n",
      "Reading block 3\n",
      "(200, 10)\n",
      "(200, 10)\n",
      "(200, 10)\n",
      "(200, 10)\n",
      "(200, 10)\n",
      "(200, 10)\n",
      "(200, 10)\n",
      "(200, 10)\n"
     ]
    }
   ],
   "source": [
    "from RHE.util.geno import *\n",
    "\n",
    "Njack = 4\n",
    "Nsnp = 100\n",
    "step_size = Nsnp // Njack\n",
    "step_size_rem = Nsnp % Njack\n",
    "mailman = False\n",
    "Nz = 10\n",
    "Nindv = 200\n",
    "\n",
    "def genotype_stream_pass(X):\n",
    "    for jack_index in range(Njack):\n",
    "        read_Nsnp = step_size if jack_index < (Njack - 1) else step_size + step_size_rem\n",
    "        print(\"num snp per block\", read_Nsnp)\n",
    "        print(\"Reading block\", jack_index)\n",
    "\n",
    "        if mailman:\n",
    "            raise NotImplementedError\n",
    "        \n",
    "        start = jack_index * step_size\n",
    "        end = start + read_Nsnp\n",
    "\n",
    "        annot_matrix_chunk = annot_matrix[start:end, :]\n",
    "        X_chunk = X[:, start:end]\n",
    "\n",
    "        # X_chunk_imp = impute_geno(X_chunk)\n",
    "\n",
    "        bin_to_snp_map = bin_to_snp(annot_matrix_chunk)\n",
    "        allgen = create_allgen(bin_to_snp_map, X_chunk)\n",
    "\n",
    "        all_zb = init_random_z(Nindv, Nz)\n",
    "\n",
    "        for bin in allgen:\n",
    "            output = compute_XXz(bin, all_zb, mailman)\n",
    "            print(output.shape)\n",
    "\n",
    "\n",
    "genotype_stream_pass(X)"
   ]
  }
 ],
 "metadata": {
  "kernelspec": {
   "display_name": "myenv3.9",
   "language": "python",
   "name": "python3"
  },
  "language_info": {
   "codemirror_mode": {
    "name": "ipython",
    "version": 3
   },
   "file_extension": ".py",
   "mimetype": "text/x-python",
   "name": "python",
   "nbconvert_exporter": "python",
   "pygments_lexer": "ipython3",
   "version": "3.9.16"
  },
  "orig_nbformat": 4
 },
 "nbformat": 4,
 "nbformat_minor": 2
}
