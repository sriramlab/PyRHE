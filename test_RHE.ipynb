{
 "cells": [
  {
   "cell_type": "code",
   "execution_count": 3,
   "metadata": {},
   "outputs": [],
   "source": [
    "from RHE.core.RHE import RHE"
   ]
  },
  {
   "cell_type": "code",
   "execution_count": 4,
   "metadata": {},
   "outputs": [],
   "source": [
    "geno_path=\"/Users/nijiayi/RHE_project/data/test2/actual_geno_1\""
   ]
  },
  {
   "cell_type": "code",
   "execution_count": 8,
   "metadata": {},
   "outputs": [
    {
     "ename": "ValueError",
     "evalue": "The truth value of an array with more than one element is ambiguous. Use a.any() or a.all()",
     "output_type": "error",
     "traceback": [
      "\u001b[0;31m---------------------------------------------------------------------------\u001b[0m",
      "\u001b[0;31mValueError\u001b[0m                                Traceback (most recent call last)",
      "Cell \u001b[0;32mIn[8], line 1\u001b[0m\n\u001b[0;32m----> 1\u001b[0m RHE(\n\u001b[1;32m      2\u001b[0m     geno_file\u001b[39m=\u001b[39;49mgeno_path,\n\u001b[1;32m      3\u001b[0m     \n\u001b[1;32m      4\u001b[0m )\n",
      "File \u001b[0;32m~/RHE_project/RHE/core/RHE.py:56\u001b[0m, in \u001b[0;36mRHE.__init__\u001b[0;34m(self, geno_file, annot_file, pheno_file, num_bin, num_jack, num_random_vec, standardize)\u001b[0m\n\u001b[1;32m     53\u001b[0m \u001b[39mself\u001b[39m\u001b[39m.\u001b[39mgeno \u001b[39m=\u001b[39m impute_geno(\u001b[39mself\u001b[39m\u001b[39m.\u001b[39mgeno, standardize\u001b[39m=\u001b[39mstandardize)\n\u001b[1;32m     55\u001b[0m \u001b[39m# read bim file\u001b[39;00m\n\u001b[0;32m---> 56\u001b[0m \u001b[39massert\u001b[39;00m \u001b[39mself\u001b[39m\u001b[39m.\u001b[39mnum_snp \u001b[39m==\u001b[39m read_bim(geno_file \u001b[39m+\u001b[39m \u001b[39m\"\u001b[39m\u001b[39m.bim\u001b[39m\u001b[39m\"\u001b[39m)\n\u001b[1;32m     58\u001b[0m \u001b[39m# read fam file\u001b[39;00m\n\u001b[1;32m     59\u001b[0m \u001b[39massert\u001b[39;00m \u001b[39mself\u001b[39m\u001b[39m.\u001b[39mnum_indv \u001b[39m==\u001b[39m read_fam(geno_file \u001b[39m+\u001b[39m \u001b[39m\"\u001b[39m\u001b[39m.fam\u001b[39m\u001b[39m\"\u001b[39m)\n",
      "\u001b[0;31mValueError\u001b[0m: The truth value of an array with more than one element is ambiguous. Use a.any() or a.all()"
     ]
    }
   ],
   "source": [
    "RHE(\n",
    "    geno_file=geno_path,\n",
    "\n",
    ")"
   ]
  },
  {
   "cell_type": "code",
   "execution_count": null,
   "metadata": {},
   "outputs": [],
   "source": []
  }
 ],
 "metadata": {
  "kernelspec": {
   "display_name": "myenv3.9",
   "language": "python",
   "name": "python3"
  },
  "language_info": {
   "codemirror_mode": {
    "name": "ipython",
    "version": 3
   },
   "file_extension": ".py",
   "mimetype": "text/x-python",
   "name": "python",
   "nbconvert_exporter": "python",
   "pygments_lexer": "ipython3",
   "version": "3.9.16"
  },
  "orig_nbformat": 4
 },
 "nbformat": 4,
 "nbformat_minor": 2
}
