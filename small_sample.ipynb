{
 "cells": [
  {
   "cell_type": "code",
   "execution_count": 1,
   "metadata": {
    "metadata": {}
   },
   "outputs": [],
   "source": [
    "from pyrhe.src.core import RHE"
   ]
  },
  {
   "cell_type": "code",
   "execution_count": 2,
   "metadata": {
    "metadata": {}
   },
   "outputs": [
    {
     "name": "stdout",
     "output_type": "stream",
     "text": [
      "Number of individuals after filtering: 1022\n",
      "Number of covariates: 4\n",
      "*****\n",
      "Number of features in bin 0 : 137\n",
      "Number of features in bin 1 : 99\n",
      "Number of features in bin 2 : 115\n",
      "Number of features in bin 3 : 146\n",
      "Number of features in bin 4 : 118\n",
      "Number of features in bin 5 : 118\n",
      "Number of features in bin 6 : 135\n",
      "Number of features in bin 7 : 128\n"
     ]
    }
   ],
   "source": [
    "rhe = RHE(\n",
    "    geno_file=\"/u/project/sriram/jiayini/PyRHE/data_25k/simple/actual_geno_1\",\n",
    "    annot_file='/u/project/sriram/jiayini/PyRHE/data_25k/simple/annot.txt',\n",
    "    cov_file='/u/project/sriram/jiayini/PyRHE/data_25k/simple/small_covariate_file.cov',\n",
    "    num_bin=1,\n",
    "    device=\"cpu\",\n",
    "    num_jack=8,\n",
    "    num_workers=2,\n",
    "    seed=0,\n",
    "    get_trace=False,\n",
    "    multiprocessing=False,\n",
    ")"
   ]
  },
  {
   "cell_type": "code",
   "execution_count": 3,
   "metadata": {
    "metadata": {}
   },
   "outputs": [
    {
     "name": "stdout",
     "output_type": "stream",
     "text": [
      "Simulating Phenotype...\n"
     ]
    }
   ],
   "source": [
    "print(\"Simulating Phenotype...\")\n",
    "y, _ = rhe.simulate_pheno(sigma_list=[0.1, 0.1, 0.1, 0.1, 0.1, 0.1, 0.1, 0.1])"
   ]
  },
  {
   "cell_type": "code",
   "execution_count": 4,
   "metadata": {
    "metadata": {}
   },
   "outputs": [
    {
     "data": {
      "text/plain": [
       "array([[0.59842223],\n",
       "       [2.98300052],\n",
       "       [0.36434719],\n",
       "       ...,\n",
       "       [1.17324546],\n",
       "       [2.29197317],\n",
       "       [1.85715178]])"
      ]
     },
     "execution_count": 4,
     "metadata": {},
     "output_type": "execute_result"
    }
   ],
   "source": [
    "y"
   ]
  },
  {
   "cell_type": "code",
   "execution_count": 6,
   "metadata": {
    "metadata": {}
   },
   "outputs": [
    {
     "name": "stdout",
     "output_type": "stream",
     "text": [
      "*****\n",
      "OUTPUT: \n"
     ]
    },
    {
     "name": "stderr",
     "output_type": "stream",
     "text": [
      "Preprocessing jackknife subsamples...: 100%|██████████| 8/8 [00:00<00:00, 35.91it/s]\n"
     ]
    },
    {
     "name": "stdout",
     "output_type": "stream",
     "text": [
      "Variance components: \n",
      "Sigma^2_g[0] : 0.11678757042737907  SE : 0.031323640824446254\n",
      "Sigma^2_g[1] : 0.08783740253601836  SE : 0.01854868550229516\n",
      "Sigma^2_g[2] : 0.10666351867041292  SE : 0.027704088202736298\n",
      "Sigma^2_g[3] : 0.10536342033667184  SE : 0.04229822921017891\n",
      "Sigma^2_g[4] : 0.08525539275360429  SE : 0.027140581901852426\n",
      "Sigma^2_g[5] : 0.06549478320736331  SE : 0.05569286373711609\n",
      "Sigma^2_g[6] : 0.03322193545400354  SE : 0.030986736399657107\n",
      "Sigma^2_g[7] : 0.0890062882439866  SE : 0.032014926882285785\n",
      "Sigma^2_e : 1.0440220516016365  SE : 0.10946314793872623\n",
      "*****\n",
      "Heritabilities:\n",
      "h2_g[0] : 0.06736504555602915 : 0.018058999091860126\n",
      "h2_g[1] : 0.05066609915514568 : 0.010708812066908983\n",
      "h2_g[2] : 0.06152532130006727 : 0.015990217070969818\n",
      "h2_g[3] : 0.06077540259588252 : 0.02440475014901989\n",
      "h2_g[4] : 0.049176752249632354 : 0.015661698308607332\n",
      "h2_g[5] : 0.037778498502028454 : 0.03212137656040067\n",
      "h2_g[6] : 0.019162974168642728 : 0.0178698444472579\n",
      "h2_g[7] : 0.051340332197916574 : 0.018473772589497384\n",
      "Total h2 : 0.3977904257253448 SE: 0.06297113717954786\n",
      "*****\n",
      "Enrichments: \n",
      "Enrichment g[0] : 1.2311729158787998 SE : 0.41214850896651134\n",
      "Enrichment g[1] : 1.2814075735937183 SE : 0.19559579609005515\n",
      "Enrichment g[2] : 1.3395565812483634 SE : 0.28323284061549675\n",
      "Enrichment g[3] : 1.0422694324895738 SE : 0.45019009451030223\n",
      "Enrichment g[4] : 1.0434769223040832 SE : 0.2848830502426703\n",
      "Enrichment g[5] : 0.8016184384453892 SE : 0.7889831861018373\n",
      "Enrichment g[6] : 0.35541369483628077 SE : 0.41798022628921205\n",
      "Enrichment g[7] : 1.0042774639097736 SE : 0.30563823480624397\n",
      "*****\n",
      "*****\n",
      "Heritabilities and enrichments computed based on overlapping setting\n",
      "Heritabilities:\n",
      "h2_g[0] : 0.06736504555602939 : 0.018058999091860026\n",
      "h2_g[1] : 0.05015432037580074 : 0.010708812066908968\n",
      "h2_g[2] : 0.06099031850615374 : 0.015990217070969828\n",
      "h2_g[3] : 0.06077540259588239 : 0.024404750149019917\n",
      "h2_g[4] : 0.049176752249632256 : 0.015661698308607273\n",
      "h2_g[5] : 0.037778498502028524 : 0.03212137656040064\n",
      "h2_g[6] : 0.019162974168642682 : 0.01786984444725789\n",
      "h2_g[7] : 0.050538139507324026 : 0.018473772589497308\n",
      "Total h2 : 0.3977904257253448 SE: 0.06297113717954786\n",
      "Enrichments (overlapping def):\n",
      "Enrichment g[0] : 1.231172915878804 SE : 0.4121485089665091\n",
      "Enrichment g[1] : 1.2684640627493362 SE : 0.1955957960900552\n",
      "Enrichment g[2] : 1.3279082631505537 SE : 0.28323284061549664\n",
      "Enrichment g[3] : 1.0422694324895716 SE : 0.45019009451030106\n",
      "Enrichment g[4] : 1.0434769223040812 SE : 0.2848830502426695\n",
      "Enrichment g[5] : 0.8016184384453907 SE : 0.7889831861018365\n",
      "Enrichment g[6] : 0.35541369483627994 SE : 0.4179802262892118\n",
      "Enrichment g[7] : 0.9885856285361813 SE : 0.30563823480624214\n"
     ]
    }
   ],
   "source": [
    "sigma_ests_total, sig_errs, h2_total, h2_errs, enrichment_total, enrichment_errs, h2_total_overlap, h2_errs_overlap, enrichment_total_overlap, enrichment_errs_overlap = rhe()"
   ]
  },
  {
   "cell_type": "code",
   "execution_count": 9,
   "metadata": {
    "metadata": {}
   },
   "outputs": [
    {
     "data": {
      "text/plain": [
       "(array([0.11678757, 0.0878374 , 0.10666352, 0.10536342, 0.08525539,\n",
       "        0.06549478, 0.03322194, 0.08900629, 1.04402205]),\n",
       " [0.031323640824446254,\n",
       "  0.01854868550229516,\n",
       "  0.027704088202736298,\n",
       "  0.04229822921017891,\n",
       "  0.027140581901852426,\n",
       "  0.05569286373711609,\n",
       "  0.030986736399657107,\n",
       "  0.032014926882285785,\n",
       "  0.10946314793872623])"
      ]
     },
     "execution_count": 9,
     "metadata": {},
     "output_type": "execute_result"
    }
   ],
   "source": [
    "sigma_ests_total, sig_errs"
   ]
  },
  {
   "cell_type": "code",
   "execution_count": 10,
   "metadata": {
    "metadata": {}
   },
   "outputs": [
    {
     "data": {
      "text/plain": [
       "(array([0.06736505, 0.0506661 , 0.06152532, 0.0607754 , 0.04917675,\n",
       "        0.0377785 , 0.01916297, 0.05134033, 0.39779043]),\n",
       " [0.018058999091860126,\n",
       "  0.010708812066908983,\n",
       "  0.015990217070969818,\n",
       "  0.02440475014901989,\n",
       "  0.015661698308607332,\n",
       "  0.03212137656040067,\n",
       "  0.0178698444472579,\n",
       "  0.018473772589497384,\n",
       "  0.06297113717954786])"
      ]
     },
     "execution_count": 10,
     "metadata": {},
     "output_type": "execute_result"
    }
   ],
   "source": [
    "h2_total, h2_errs"
   ]
  },
  {
   "cell_type": "code",
   "execution_count": 11,
   "metadata": {
    "metadata": {}
   },
   "outputs": [
    {
     "data": {
      "text/plain": [
       "(array([1.23117292, 1.28140757, 1.33955658, 1.04226943, 1.04347692,\n",
       "        0.80161844, 0.35541369, 1.00427746]),\n",
       " [0.41214850896651134,\n",
       "  0.19559579609005515,\n",
       "  0.28323284061549675,\n",
       "  0.45019009451030223,\n",
       "  0.2848830502426703,\n",
       "  0.7889831861018373,\n",
       "  0.41798022628921205,\n",
       "  0.30563823480624397])"
      ]
     },
     "execution_count": 11,
     "metadata": {},
     "output_type": "execute_result"
    }
   ],
   "source": [
    "enrichment_total, enrichment_errs"
   ]
  },
  {
   "cell_type": "markdown",
   "metadata": {},
   "source": [
    "## Streaming Version"
   ]
  },
  {
   "cell_type": "code",
   "execution_count": 12,
   "metadata": {
    "metadata": {}
   },
   "outputs": [],
   "source": [
    "from pyrhe.src.core import StreamingRHE"
   ]
  },
  {
   "cell_type": "code",
   "execution_count": 14,
   "metadata": {
    "metadata": {}
   },
   "outputs": [
    {
     "name": "stdout",
     "output_type": "stream",
     "text": [
      "Number of individuals after filtering: 1022\n",
      "Number of covariates: 4\n",
      "*****\n",
      "Number of features in bin 0 : 137\n",
      "Number of features in bin 1 : 99\n",
      "Number of features in bin 2 : 115\n",
      "Number of features in bin 3 : 146\n",
      "Number of features in bin 4 : 118\n",
      "Number of features in bin 5 : 118\n",
      "Number of features in bin 6 : 135\n",
      "Number of features in bin 7 : 128\n",
      "Simulating Phenotype...\n",
      "*****\n",
      "OUTPUT: \n"
     ]
    },
    {
     "name": "stderr",
     "output_type": "stream",
     "text": [
      "Preprocessing jackknife subsamples...: 100%|██████████| 8/8 [00:00<00:00, 39.11it/s]\n",
      "Estimating...: 100%|██████████| 9/9 [00:00<00:00, 31.10it/s]\n"
     ]
    },
    {
     "name": "stdout",
     "output_type": "stream",
     "text": [
      "Variance components: \n",
      "Sigma^2_g[0] : 0.1158072435538918  SE : 0.033375034953196804\n",
      "Sigma^2_g[1] : 0.0884765289023271  SE : 0.018161872353292318\n",
      "Sigma^2_g[2] : 0.10618368971278411  SE : 0.02799062955014336\n",
      "Sigma^2_g[3] : 0.1054195565882241  SE : 0.04168268762364652\n",
      "Sigma^2_g[4] : 0.08483766006269526  SE : 0.02665416812172313\n",
      "Sigma^2_g[5] : 0.06664866914130792  SE : 0.05496488559821238\n",
      "Sigma^2_g[6] : 0.03036024849485009  SE : 0.030489499024381243\n",
      "Sigma^2_g[7] : 0.08450400040158494  SE : 0.03241294406595622\n",
      "Sigma^2_e : 1.0514552885276327  SE : 0.10932060830597211\n",
      "*****\n",
      "Heritabilities:\n",
      "h2_g[0] : 0.06679801510989916 : 0.01924306919598787\n",
      "h2_g[1] : 0.05103356519956184 : 0.010483296773030974\n",
      "h2_g[2] : 0.06124711626141657 : 0.01615509930063634\n",
      "h2_g[3] : 0.06080636165545291 : 0.024049071506202176\n",
      "h2_g[4] : 0.048934653177538326 : 0.015380758942456035\n",
      "h2_g[5] : 0.03844318085581567 : 0.031700361370145334\n",
      "h2_g[6] : 0.017511895417453245 : 0.01758271978594396\n",
      "h2_g[7] : 0.04874219714110707 : 0.018701436351278748\n",
      "Total h2 : 0.39351698481824476 SE: 0.062894426174532\n",
      "*****\n",
      "Enrichments: \n",
      "Enrichment g[0] : 1.2340673067537133 SE : 0.433806839324848\n",
      "Enrichment g[1] : 1.304717750818775 SE : 0.19624981909743025\n",
      "Enrichment g[2] : 1.3479806606844087 SE : 0.27469784912048656\n",
      "Enrichment g[3] : 1.0541247708073966 SE : 0.4551844563403454\n",
      "Enrichment g[4] : 1.0496158102178212 SE : 0.2933571517055157\n",
      "Enrichment g[5] : 0.8245806969333679 SE : 0.7853121654669724\n",
      "Enrichment g[6] : 0.3283184153215868 SE : 0.417705318938374\n",
      "Enrichment g[7] : 0.963809025115947 SE : 0.313871439981137\n",
      "*****\n",
      "*****\n",
      "Heritabilities and enrichments computed based on overlapping setting\n",
      "Heritabilities:\n",
      "h2_g[0] : 0.06679801510989938 : 0.019243069195987922\n",
      "h2_g[1] : 0.050518074641990554 : 0.010483296773031059\n",
      "h2_g[2] : 0.0607145326417521 : 0.01615509930063641\n",
      "h2_g[3] : 0.06080636165545278 : 0.024049071506202283\n",
      "h2_g[4] : 0.04893465317753825 : 0.01538075894245606\n",
      "h2_g[5] : 0.03844318085581558 : 0.0317003613701454\n",
      "h2_g[6] : 0.017511895417453283 : 0.01758271978594395\n",
      "h2_g[7] : 0.04798060031077741 : 0.018701436351278706\n",
      "Total h2 : 0.39351698481824476 SE: 0.062894426174532\n",
      "Enrichments (overlapping def):\n",
      "Enrichment g[0] : 1.2340673067537173 SE : 0.43380683932485065\n",
      "Enrichment g[1] : 1.2915387836387886 SE : 0.19624981909743144\n",
      "Enrichment g[2] : 1.3362590897219357 SE : 0.27469784912048834\n",
      "Enrichment g[3] : 1.0541247708073944 SE : 0.45518445634034665\n",
      "Enrichment g[4] : 1.0496158102178195 SE : 0.2933571517055154\n",
      "Enrichment g[5] : 0.824580696933366 SE : 0.7853121654669741\n",
      "Enrichment g[6] : 0.3283184153215875 SE : 0.4177053189383739\n",
      "Enrichment g[7] : 0.9487495090985131 SE : 0.3138714399811358\n"
     ]
    }
   ],
   "source": [
    "rhe = StreamingRHE(\n",
    "    geno_file=\"/u/project/sriram/jiayini/PyRHE/data_25k/simple/actual_geno_1\",\n",
    "    annot_file='/u/project/sriram/jiayini/PyRHE/data_25k/simple/annot.txt',\n",
    "    cov_file='/u/project/sriram/jiayini/PyRHE/data_25k/simple/small_covariate_file.cov',\n",
    "    num_bin=1,\n",
    "    device=\"cpu\",\n",
    "    num_jack=8,\n",
    "    num_workers=2,\n",
    "    seed=0,\n",
    "    get_trace=False,\n",
    "    multiprocessing=False,\n",
    ")\n",
    "print(\"Simulating Phenotype...\")\n",
    "y, _ = rhe.simulate_pheno(sigma_list=[0.1, 0.1, 0.1, 0.1, 0.1, 0.1, 0.1, 0.1])\n",
    "\n",
    "sigma_ests_total, sig_errs, h2_total, h2_errs, enrichment_total, enrichment_errs, h2_total_overlap, h2_errs_overlap, enrichment_total_overlap, enrichment_errs_overlap = rhe()"
   ]
  },
  {
   "cell_type": "code",
   "execution_count": null,
   "metadata": {},
   "outputs": [],
   "source": []
  }
 ],
 "metadata": {
  "kernelspec": {
   "display_name": "base",
   "language": "python",
   "name": "python3"
  },
  "language_info": {
   "codemirror_mode": {
    "name": "ipython",
    "version": 3
   },
   "file_extension": ".py",
   "mimetype": "text/x-python",
   "name": "python",
   "nbconvert_exporter": "python",
   "pygments_lexer": "ipython3",
   "version": "3.10.10"
  }
 },
 "nbformat": 4,
 "nbformat_minor": 2
}
