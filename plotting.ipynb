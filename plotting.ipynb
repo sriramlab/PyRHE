{
 "cells": [
  {
   "cell_type": "code",
   "execution_count": 5,
   "metadata": {},
   "outputs": [],
   "source": [
    "import json\n",
    "import pickle"
   ]
  },
  {
   "cell_type": "code",
   "execution_count": 6,
   "metadata": {},
   "outputs": [
    {
     "name": "stdout",
     "output_type": "stream",
     "text": [
      "0 : [[0.208595], [0.0242589]]\n",
      "1 : [[0.248679], [0.0222827]]\n",
      "2 : [[0.247789], [0.0214003]]\n",
      "3 : [[0.243477], [0.020656]]\n",
      "4 : [[0.264021], [0.0221762]]\n",
      "5 : [[0.232209], [0.0211401]]\n",
      "6 : [[0.266406], [0.0230365]]\n",
      "7 : [[0.268994], [0.0288309]]\n",
      "8 : [[0.274601], [0.0242799]]\n",
      "9 : [[0.25589], [0.0214221]]\n",
      "10 : [[0.239299], [0.0251464]]\n",
      "11 : [[0.204565], [0.0240014]]\n",
      "12 : [[0.254956], [0.0211375]]\n",
      "13 : [[0.268656], [0.0219735]]\n",
      "14 : [[0.237235], [0.0244934]]\n",
      "15 : [[0.205192], [0.0215834]]\n",
      "16 : [[0.26636], [0.0225192]]\n",
      "17 : [[0.259538], [0.0224781]]\n",
      "18 : [[0.220604], [0.0201227]]\n",
      "19 : [[0.23466], [0.0203024]]\n",
      "20 : [[0.257095], [0.0242663]]\n",
      "21 : [[0.257855], [0.024132]]\n",
      "22 : [[0.262901], [0.0208686]]\n",
      "23 : [[0.265225], [0.0202832]]\n",
      "24 : [[0.270648], [0.0225688]]\n"
     ]
    }
   ],
   "source": [
    "# Original\n",
    "with open(\"original_results.json\", \"r\") as file:\n",
    "    data = json.load(file)\n",
    "\n",
    "parsed_data = {}\n",
    "\n",
    "for key, value in data.items():\n",
    "    idx = int(key.split(\"/\")[-1].split(\".\")[0])\n",
    "    parsed_data[idx] = [[value['sigma_est_0']], [value['sigma_err_0']]]\n",
    "\n",
    "for idx, values in sorted(parsed_data.items()):\n",
    "    print(f\"{idx} : {values}\")"
   ]
  },
  {
   "cell_type": "code",
   "execution_count": 7,
   "metadata": {},
   "outputs": [
    {
     "name": "stdout",
     "output_type": "stream",
     "text": [
      "{'/u/home/j/jiayini/project-sriram/RHE_project/data/pheno/bin_1/1.phen': {'sigma_ests_total': array([0.24853191, 0.74164602]), 'sig_errs': [0.021905915191001206, 0.02190591519100168], 'h2_total': array([0.25099722, 0.74900278, 0.25099722]), 'h2_errs': [0.022123211005491406, 0.02212321100549139, 0.022123211005491406], 'enrichment_total': array([1.10081967e-06]), 'enrichment_errs': [1.713688290370535e-11]}}\n"
     ]
    }
   ],
   "source": [
    "file_path = \"/u/home/j/jiayini/project-sriram/RHE_project/results/python_rhe_1.pkl\"\n",
    "with open(file_path, \"rb\") as file:\n",
    "    content = pickle.load(file)\n",
    "\n",
    "print(content)\n",
    "# TODO: Parse\n",
    "# TODO: multiple runs + plotting"
   ]
  }
 ],
 "metadata": {
  "kernelspec": {
   "display_name": "base",
   "language": "python",
   "name": "python3"
  },
  "language_info": {
   "codemirror_mode": {
    "name": "ipython",
    "version": 3
   },
   "file_extension": ".py",
   "mimetype": "text/x-python",
   "name": "python",
   "nbconvert_exporter": "python",
   "pygments_lexer": "ipython3",
   "version": "3.10.10"
  },
  "orig_nbformat": 4
 },
 "nbformat": 4,
 "nbformat_minor": 2
}
