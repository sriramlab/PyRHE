{
  "cells": [
    {
      "cell_type": "code",
      "execution_count": 3,
      "id": "kBLbcd-9cZmE",
      "metadata": {
        "colab": {
          "base_uri": "https://localhost:8080/"
        },
        "id": "kBLbcd-9cZmE",
        "outputId": "2c6a275d-095e-41fc-af59-a1e202461906"
      },
      "outputs": [
        {
          "name": "stdout",
          "output_type": "stream",
          "text": [
            "Requirement already satisfied: bed_reader in /Users/nijiayi/miniconda3/envs/myenv3.9/lib/python3.9/site-packages (0.2.36)\n",
            "Requirement already satisfied: numpy>=1.13.3 in /Users/nijiayi/miniconda3/envs/myenv3.9/lib/python3.9/site-packages (from bed_reader) (1.22.4)\n",
            "Requirement already satisfied: pandas>=0.25.1 in /Users/nijiayi/miniconda3/envs/myenv3.9/lib/python3.9/site-packages (from bed_reader) (2.0.2)\n",
            "Requirement already satisfied: pooch>=1.4.0 in /Users/nijiayi/miniconda3/envs/myenv3.9/lib/python3.9/site-packages (from bed_reader) (1.7.0)\n",
            "Requirement already satisfied: chardet>=5.1.0 in /Users/nijiayi/miniconda3/envs/myenv3.9/lib/python3.9/site-packages (from bed_reader) (5.1.0)\n",
            "Requirement already satisfied: python-dateutil>=2.8.2 in /Users/nijiayi/miniconda3/envs/myenv3.9/lib/python3.9/site-packages (from pandas>=0.25.1->bed_reader) (2.8.2)\n",
            "Requirement already satisfied: pytz>=2020.1 in /Users/nijiayi/miniconda3/envs/myenv3.9/lib/python3.9/site-packages (from pandas>=0.25.1->bed_reader) (2023.3)\n",
            "Requirement already satisfied: tzdata>=2022.1 in /Users/nijiayi/miniconda3/envs/myenv3.9/lib/python3.9/site-packages (from pandas>=0.25.1->bed_reader) (2023.3)\n",
            "Requirement already satisfied: platformdirs>=2.5.0 in /Users/nijiayi/miniconda3/envs/myenv3.9/lib/python3.9/site-packages (from pooch>=1.4.0->bed_reader) (3.8.0)\n",
            "Requirement already satisfied: packaging>=20.0 in /Users/nijiayi/miniconda3/envs/myenv3.9/lib/python3.9/site-packages (from pooch>=1.4.0->bed_reader) (23.1)\n",
            "Requirement already satisfied: requests>=2.19.0 in /Users/nijiayi/miniconda3/envs/myenv3.9/lib/python3.9/site-packages (from pooch>=1.4.0->bed_reader) (2.31.0)\n",
            "Requirement already satisfied: six>=1.5 in /Users/nijiayi/miniconda3/envs/myenv3.9/lib/python3.9/site-packages (from python-dateutil>=2.8.2->pandas>=0.25.1->bed_reader) (1.16.0)\n",
            "Requirement already satisfied: charset-normalizer<4,>=2 in /Users/nijiayi/miniconda3/envs/myenv3.9/lib/python3.9/site-packages (from requests>=2.19.0->pooch>=1.4.0->bed_reader) (3.1.0)\n",
            "Requirement already satisfied: idna<4,>=2.5 in /Users/nijiayi/miniconda3/envs/myenv3.9/lib/python3.9/site-packages (from requests>=2.19.0->pooch>=1.4.0->bed_reader) (3.4)\n",
            "Requirement already satisfied: urllib3<3,>=1.21.1 in /Users/nijiayi/miniconda3/envs/myenv3.9/lib/python3.9/site-packages (from requests>=2.19.0->pooch>=1.4.0->bed_reader) (2.0.3)\n",
            "Requirement already satisfied: certifi>=2017.4.17 in /Users/nijiayi/miniconda3/envs/myenv3.9/lib/python3.9/site-packages (from requests>=2.19.0->pooch>=1.4.0->bed_reader) (2023.5.7)\n"
          ]
        }
      ],
      "source": [
        "!pip install bed_reader"
      ]
    },
    {
      "cell_type": "code",
      "execution_count": 4,
      "id": "34cad001",
      "metadata": {
        "colab": {
          "base_uri": "https://localhost:8080/"
        },
        "id": "34cad001",
        "outputId": "c58e1d49-e85a-49ce-9c08-3081c18d96fa"
      },
      "outputs": [],
      "source": [
        "import pandas as pd\n",
        "import numpy as np\n",
        "import scipy\n",
        "from sklearn.preprocessing import StandardScaler\n",
        "from bed_reader import open_bed, sample_file"
      ]
    },
    {
      "cell_type": "code",
      "execution_count": 5,
      "id": "220d3bc3",
      "metadata": {
        "id": "220d3bc3"
      },
      "outputs": [],
      "source": [
        "def simulator(X, sigma):\n",
        "    '''\n",
        "    Simulate phenotype y from X and sigmas\n",
        "    '''\n",
        "    N = X.shape[0]\n",
        "    M = X.shape[1]\n",
        "    y = np.zeros((N,1))\n",
        "    sigma_epsilon=1 - sigma # environmental effect sizes\n",
        "    betas = np.random.randn(M,1)*np.sqrt(sigma) # additive SNP effect sizes\n",
        "    y += X@betas/np.sqrt(M)\n",
        "    #print(f'sigma_epislon={sigma_epsilon}')\n",
        "    y += np.random.randn(N,1)*np.sqrt(sigma_epsilon) # add the effect sizes\n",
        "    return y, betas\n",
        "\n",
        "def solve_linear_equation(X, y):\n",
        "    '''\n",
        "    Solve least square\n",
        "    '''\n",
        "    sigma = np.linalg.lstsq(X, y, rcond=None)[0]\n",
        "    return sigma\n",
        "\n",
        "\n",
        "def solve_linear_qr(X, y):\n",
        "    '''\n",
        "    Solve least square using QR decomposition\n",
        "    '''\n",
        "    Q, R = scipy.linalg.qr(X)\n",
        "    sigma = scipy.linalg.solve_triangular(R, np.dot(Q.T, y))\n",
        "    return sigma\n",
        "\n",
        "def RHE(X,y,num_random_vect=10,seed=1,verbose=False):\n",
        "    '''\n",
        "    RHE estimation\n",
        "    '''\n",
        "    np.random.seed(seed)\n",
        "    N = X.shape[0]\n",
        "    M = X.shape[1]\n",
        "    T = np.zeros((2,2))\n",
        "    q = np.zeros((2,1))\n",
        "\n",
        "    Xi = X.copy()/np.sqrt(M)\n",
        "    for _ in range(num_random_vect):\n",
        "        # Generate random vector to estimate trace\n",
        "        rand_vector = np.random.randn(N,1)\n",
        "        T[0,0] += rand_vector.T@Xi@Xi.T@Xi@Xi.T@rand_vector/num_random_vect\n",
        "\n",
        "    T[1,0] = np.trace(Xi@Xi.T)\n",
        "    T[0,1] = T[1,0]\n",
        "    T[1,1] = N\n",
        "\n",
        "    q[0] = y.T@Xi@Xi.T@y\n",
        "    q[1] = y.T@y\n",
        "\n",
        "    if verbose:\n",
        "        print(T)\n",
        "    sigma_est = solve_linear_equation(T,q)\n",
        "    return sigma_est\n",
        "\n",
        "\n",
        "def HE (X, y, verbose = False):\n",
        "    '''\n",
        "    HE estimation (without using random vectors)\n",
        "    '''\n",
        "    N = X.shape[0]\n",
        "    M = X.shape[1]\n",
        "    T = np.zeros((2,2))\n",
        "    q = np.zeros((2,1))\n",
        "\n",
        "    Xi = X.copy()/np.sqrt(M)\n",
        "    T[0,0] = np.trace(Xi@Xi.T@Xi@Xi.T)\n",
        "    T[1,0] = np.trace(Xi@Xi.T)\n",
        "    T[0,1] = T[1,0]\n",
        "    T[1,1] = N\n",
        "\n",
        "    q[0] = y.T@Xi@Xi.T@y\n",
        "    q[1] = y.T@y\n",
        "\n",
        "    if verbose:\n",
        "        print(T)\n",
        "\n",
        "    sigma_est = solve_linear_equation(T,q)\n",
        "    return sigma_est"
      ]
    },
    {
      "cell_type": "markdown",
      "id": "f60f735f",
      "metadata": {
        "id": "f60f735f"
      },
      "source": [
        "## In the cell below, we simulate the genotype matrix by taking random samples of the MAF for each SNP from a uniform distribution. Then for each individual (based on the MAF of that SNP), run a Bernoulli trial to get the genotype value at that location (i.e., whether the individual has the SNP or not; either 0,1 or 2)\n",
        "I'll also share the genotype matrices for you to benchmark RHE and the python version (here), but this a very simple simulation. For instance, here we don't consider the LD structure here at all."
      ]
    },
    {
      "cell_type": "code",
      "execution_count": 6,
      "id": "f794da77",
      "metadata": {
        "colab": {
          "base_uri": "https://localhost:8080/"
        },
        "id": "f794da77",
        "outputId": "9a8ea9ba-2164-467f-ec28-856b52f9615a"
      },
      "outputs": [
        {
          "name": "stdout",
          "output_type": "stream",
          "text": [
            "Actual sigmas are: 0.3\n",
            "RHE estimated sigmas are: [0.27646048] [0.71014217] \n",
            "HE estimated sigmas are: [0.28039846] [0.7062042]\n"
          ]
        }
      ],
      "source": [
        "M=100 # M = 500000\n",
        "N=10000  # N=300000\n",
        "target_index=1\n",
        "sigmas_list=[0.3]\n",
        "# t0 = time()\n",
        "for i in range(1):\n",
        "    np.random.seed(i)\n",
        "    sigmas=sigmas_list[i]\n",
        "\n",
        "    MAFs = np.random.uniform(0.01,0.5,M)\n",
        "\n",
        "    P_matrix = np.tile(MAFs, (N, 1))\n",
        "\n",
        "    # num of success in 2 trials\n",
        "    X = np.random.binomial(2, P_matrix) # X here is the un-standardized, raw genotype matrix (entries are 0, 1, or 2)\n",
        "\n",
        "    X = StandardScaler().fit_transform(X) # standardize X\n",
        "\n",
        "    y, beta_list = simulator(X, sigmas) # generate phenotype with some beta values\n",
        "\n",
        "    print(f'Actual sigmas are: {sigmas}')\n",
        "    sigma_est=RHE(X,y,num_random_vect=10,seed=42) # run py-RHE\n",
        "    sigma_est2=HE(X, y)\n",
        "\n",
        "    print ('RHE estimated sigmas are:',*sigma_est, '\\nHE estimated sigmas are:', *sigma_est2)"
      ]
    },
    {
      "cell_type": "markdown",
      "id": "703ba44d",
      "metadata": {
        "id": "703ba44d"
      },
      "source": [
        "## And here's an (almost) identical code but instead of simulating genotype, it reads in the genotype file (.bed) using the bed-reader. One major difference is, in real genotype, there is often missingness, which needs to be imputed.\n",
        "### Here's one way of imputing: simply replace the missing values by the average of non-missing entries for that SNP. This is different than what's done in the RHE code.\n"
      ]
    },
    {
      "cell_type": "code",
      "execution_count": 7,
      "id": "e540a2a2",
      "metadata": {
        "id": "e540a2a2"
      },
      "outputs": [],
      "source": [
        "'''\n",
        "impute the genotype matrix for any missingness by using the average of other samples\n",
        "this function also standardizes it\n",
        "'''\n",
        "def impute_geno(X):\n",
        "    N = X.shape[0]\n",
        "    M = X.shape[1]\n",
        "    X_imp = X.copy()\n",
        "    for m in range(M):\n",
        "        cnt = 0\n",
        "        csum = 0\n",
        "        for n in range(N):\n",
        "            if not np.isnan(X[n, m]):\n",
        "                cnt += 1\n",
        "                csum += X[n,m]\n",
        "        csum /= cnt\n",
        "        X_imp[:,m] = np.nan_to_num(X_imp[:,m], nan=csum*0.5)\n",
        "    X_imp = (X_imp-np.mean(X_imp, axis=0))/np.std(X_imp, axis=0)\n",
        "    return X_imp"
      ]
    },
    {
      "cell_type": "code",
      "execution_count": 56,
      "id": "e0a3553b",
      "metadata": {
        "colab": {
          "base_uri": "https://localhost:8080/"
        },
        "id": "e0a3553b",
        "outputId": "0c1d5557-ddfd-40e0-a576-3a2345aa7fb9"
      },
      "outputs": [
        {
          "name": "stdout",
          "output_type": "stream",
          "text": [
            "[[0. 0. 0. ... 2. 1. 1.]\n",
            " [0. 1. 2. ... 2. 0. 0.]\n",
            " [0. 0. 1. ... 0. 1. 2.]\n",
            " ...\n",
            " [1. 2. 0. ... 1. 2. 1.]\n",
            " [1. 1. 0. ... 2. 0. 1.]\n",
            " [1. 0. 1. ... 1. 1. 1.]]\n",
            "(3949, 2808)\n"
          ]
        }
      ],
      "source": [
        "geno_path=\"/Users/nijiayi/RHE_project/simulated_geno/simulated_geno_1.bed\"\n",
        "bed = open_bed(geno_path)\n",
        "X = bed.read()\n",
        "print(X)\n",
        "print(X.shape)"
      ]
    },
    {
      "cell_type": "code",
      "execution_count": 43,
      "id": "63e3bcce",
      "metadata": {
        "id": "63e3bcce"
      },
      "outputs": [
        {
          "name": "stdout",
          "output_type": "stream",
          "text": [
            "[[-0.7989463  -0.21210708 -0.38583896 ...  0.78404874 -0.5160357\n",
            "  -0.5581683 ]\n",
            " [-0.7989463  -0.21210708 -0.38583896 ... -0.813857   -0.5160357\n",
            "  -0.5581683 ]\n",
            " [-0.7989463  -0.21210708 -0.38583896 ... -0.813857   -0.5160357\n",
            "  -0.5581683 ]\n",
            " ...\n",
            " [-0.7989463  -0.21210708 -0.38583896 ... -0.813857   -0.5160357\n",
            "  -0.5581683 ]\n",
            " [-0.7989463  -0.21210708 -0.38583896 ...  2.3819544  -0.5160357\n",
            "   1.4910861 ]\n",
            " [-0.7989463  -0.21210708 -0.38583896 ... -0.813857    1.6690814\n",
            "   1.4910861 ]]\n"
          ]
        }
      ],
      "source": [
        "X_imp = impute_geno(X)\n",
        "print(X_imp)"
      ]
    },
    {
      "cell_type": "code",
      "execution_count": 10,
      "id": "c5fda16b",
      "metadata": {
        "colab": {
          "base_uri": "https://localhost:8080/"
        },
        "id": "c5fda16b",
        "outputId": "4f1dbf59-3c3c-41ee-b3c1-067992b6df05"
      },
      "outputs": [
        {
          "name": "stdout",
          "output_type": "stream",
          "text": [
            "Actual sigmas are: 0.2\n",
            "RHE estimated sigmas are: [0.16427576] [0.83198898] \n",
            "HE estimated sigmas are: [0.16982971] [0.82643503]\n"
          ]
        }
      ],
      "source": [
        "sigma = 0.2\n",
        "y, beta_list = simulator(X_imp, sigma) # generate phenotype with some beta values\n",
        "\n",
        "print(f'Actual sigmas are: {sigma}')\n",
        "sigma_est=RHE(X_imp,y,num_random_vect=10,seed=42) # run py-RHE\n",
        "sigma_est2=HE(X_imp, y) # run exact-HE\n",
        "\n",
        "print ('RHE estimated sigmas are:',*sigma_est, '\\nHE estimated sigmas are:', *sigma_est2)"
      ]
    },
    {
      "cell_type": "markdown",
      "id": "41ed1dfd",
      "metadata": {
        "id": "41ed1dfd"
      },
      "source": [
        "## TODO: In the \"geno\" directory, you will find several genotype (.bed) files with multiple combinations of N (samples) and M (snps). As discussed in our meeting:\n",
        "\n",
        "## 1. Benchmark the python version of RHE & HE and the original, C++ version on those genotypes files and plot the run time (y-axis) against NxM (x-axis), and interpolate to large samples (UKBB) of 300k individuals x 454k SNPs.\n",
        "\n",
        "## 2. Repeat the same, but using the simulated genotypes\n",
        "For simulated phenotypes, to run it on the C++ RHE, you'd have to port the matrix into PLINK bed. Read https://zzz.bwh.harvard.edu/plink/binary.shtml for how the encoding works. You might also want to take a look at this documentation for packages that does it: https://rdrr.io/cran/genio/man/write_bed.html"
      ]
    },
    {
      "cell_type": "code",
      "execution_count": 12,
      "id": "EpsQDZJgRHE6",
      "metadata": {
        "id": "EpsQDZJgRHE6"
      },
      "outputs": [],
      "source": [
        "import numpy as np\n",
        "import time\n",
        "import matplotlib.pyplot as plt\n",
        "import glob\n",
        "from scipy.interpolate import interp1d"
      ]
    },
    {
      "cell_type": "code",
      "execution_count": 60,
      "id": "__Kptx9kQYEB",
      "metadata": {
        "colab": {
          "base_uri": "https://localhost:8080/"
        },
        "id": "__Kptx9kQYEB",
        "outputId": "9b1b91d9-0eda-4b6d-e18c-2aa890bbcb74"
      },
      "outputs": [],
      "source": [
        "rhe_runtimes = []\n",
        "he_runtimes = []\n",
        "nxm_values = []\n",
        "\n",
        "directory = \"/Users/nijiayi/RHE_project/geno/\"\n",
        "\n",
        "genotype_files = glob.glob(directory + \"*.bed\")"
      ]
    },
    {
      "cell_type": "markdown",
      "id": "tJWP4gz0zcMa",
      "metadata": {
        "id": "tJWP4gz0zcMa"
      },
      "source": [
        "Using Actual Genotypes:"
      ]
    },
    {
      "cell_type": "code",
      "execution_count": 14,
      "id": "IY8sc9UdQirt",
      "metadata": {
        "id": "IY8sc9UdQirt"
      },
      "outputs": [],
      "source": [
        "for geno_path in genotype_files:\n",
        "    bed = open_bed(geno_path)\n",
        "    X = bed.read()\n",
        "    nxm_values.append(X.shape[0] * X.shape[1])\n",
        "    X_imp = impute_geno(X)\n",
        "\n",
        "\n",
        "    sigma = 0.2\n",
        "    y, beta_list = simulator(X_imp, sigma) # Generate phenotype with some beta values\n",
        "\n",
        "    # runtime for RHE\n",
        "    start_time = time.time()\n",
        "    sigma_est = RHE(X_imp, y, num_random_vect=10, seed=42)\n",
        "    end_time = time.time()\n",
        "    rhe_runtime = end_time - start_time\n",
        "    rhe_runtimes.append(rhe_runtime)\n",
        "\n",
        "    # runtime for HE\n",
        "    start_time = time.time()\n",
        "    sigma_est2 = HE(X_imp, y)\n",
        "    end_time = time.time()\n",
        "    he_runtime = end_time - start_time\n",
        "    he_runtimes.append(he_runtime)"
      ]
    },
    {
      "cell_type": "code",
      "execution_count": 15,
      "id": "t6-REW2rgIw0",
      "metadata": {
        "id": "t6-REW2rgIw0"
      },
      "outputs": [],
      "source": [
        "data = list(zip(nxm_values, rhe_runtimes, he_runtimes))\n",
        "sorted_data = sorted(data, key=lambda x: x[0])\n",
        "sorted_nxm_values, sorted_rhe_runtimes, sorted_he_runtimes = zip(*sorted_data)"
      ]
    },
    {
      "cell_type": "code",
      "execution_count": 16,
      "id": "qzYp8Y5TRamP",
      "metadata": {
        "colab": {
          "base_uri": "https://localhost:8080/",
          "height": 472
        },
        "id": "qzYp8Y5TRamP",
        "outputId": "4c6aa8a2-112f-444d-c533-a14e765502b7"
      },
      "outputs": [
        {
          "data": {
            "image/png": "[encoded data removed]",
            "text/plain": [
              "<Figure size 640x480 with 1 Axes>"
            ]
          },
          "metadata": {},
          "output_type": "display_data"
        }
      ],
      "source": [
        "plt.plot(sorted_nxm_values, sorted_rhe_runtimes, label='RHE')\n",
        "plt.plot(sorted_nxm_values, sorted_he_runtimes, label='HE')\n",
        "plt.xlabel('NxM')\n",
        "plt.ylabel('Run Time (s)')\n",
        "plt.title('RHE and HE Python Run Times vs NxM of the Genotype Matrix')\n",
        "plt.legend()\n",
        "plt.show()"
      ]
    },
    {
      "cell_type": "code",
      "execution_count": 17,
      "id": "6ikmSPm_S0ff",
      "metadata": {
        "colab": {
          "base_uri": "https://localhost:8080/"
        },
        "id": "6ikmSPm_S0ff",
        "outputId": "5312772f-575e-4530-a928-e9537bb199b9"
      },
      "outputs": [
        {
          "name": "stdout",
          "output_type": "stream",
          "text": [
            "Interpolated RHE runtime with actual genotype file: 23066.77020107829 seconds\n",
            "Interpolated HE runtime with actual genotype file: 13230.173088741876 seconds\n"
          ]
        }
      ],
      "source": [
        "# interpolate\n",
        "ukbb_N = 300000\n",
        "ukbb_M = 454000\n",
        "\n",
        "rhe_interp_func = interp1d(sorted_nxm_values, sorted_rhe_runtimes, fill_value='extrapolate')\n",
        "he_interp_func = interp1d(sorted_nxm_values, sorted_he_runtimes, fill_value='extrapolate')\n",
        "\n",
        "rhe_interpolated = rhe_interp_func(ukbb_N * ukbb_M )\n",
        "he_interpolated = he_interp_func(ukbb_N * ukbb_M )\n",
        "\n",
        "print(f\"Interpolated RHE runtime with actual genotype file: {rhe_interpolated} seconds\")\n",
        "print(f\"Interpolated HE runtime with actual genotype file: {he_interpolated} seconds\")"
      ]
    },
    {
      "cell_type": "markdown",
      "id": "ZNDhRhGZUFuz",
      "metadata": {
        "id": "ZNDhRhGZUFuz"
      },
      "source": [
        "Using Simulated Genotypes:\n",
        "\n"
      ]
    },
    {
      "cell_type": "code",
      "execution_count": 47,
      "id": "J_aXxMOQUFSL",
      "metadata": {
        "id": "J_aXxMOQUFSL"
      },
      "outputs": [],
      "source": [
        "nxm_values_tuples_sim = []\n",
        "nxm_values_sim = []\n",
        "rhe_runtimes_sim = []\n",
        "he_runtimes_sim = []\n",
        "geno_matrices = []\n",
        "pheno_matrices = []\n",
        "\n",
        "\n",
        "for geno_path in genotype_files:\n",
        "    bed = open_bed(geno_path)\n",
        "    X = bed.read()\n",
        "\n",
        "    N = X.shape[0]\n",
        "    M = X.shape[1]\n",
        "\n",
        "    nxm_values_tuples_sim.append((N, M))\n",
        "    nxm_values_sim.append(N*M)\n",
        "\n",
        "    np.random.seed(0)\n",
        "\n",
        "    sigma = 0.3\n",
        "\n",
        "    MAFs = np.random.uniform(0.01, 0.5, M)\n",
        "    P_matrix = np.tile(MAFs, (N, 1))\n",
        "    X = np.random.binomial(2, P_matrix)\n",
        "\n",
        "    geno_matrices.append(X)\n",
        "\n",
        "    X = StandardScaler().fit_transform(X) # standardize X\n",
        "\n",
        "\n",
        "    y, beta_list = simulator(X, sigma)\n",
        "    pheno_matrices.append(y)\n",
        "\n",
        "\n",
        "    # runtime for RHE\n",
        "    start_time = time.time()\n",
        "    sigma_est = RHE(X, y, num_random_vect=10, seed=42)\n",
        "    end_time = time.time()\n",
        "    rhe_runtime_sim = end_time - start_time\n",
        "    rhe_runtimes_sim.append(rhe_runtime_sim)\n",
        "\n",
        "    # runtime for HE\n",
        "    start_time = time.time()\n",
        "    sigma_est2 = HE(X, y)\n",
        "    end_time = time.time()\n",
        "    he_runtime_sim = end_time - start_time\n",
        "    he_runtimes_sim.append(he_runtime_sim)"
      ]
    },
    {
      "cell_type": "code",
      "execution_count": 35,
      "id": "0O4LbfanX6Ge",
      "metadata": {
        "colab": {
          "base_uri": "https://localhost:8080/"
        },
        "id": "0O4LbfanX6Ge",
        "outputId": "f8b998f3-bff0-4386-ee15-5cd6b6c29cd6"
      },
      "outputs": [
        {
          "name": "stdout",
          "output_type": "stream",
          "text": [
            "[(3949, 2808), (496, 4577), (2030, 4583), (1022, 996), (496, 2803), (2030, 2803), (3949, 4605), (2030, 9204), (1022, 4570), (496, 9199), (1022, 9205), (3949, 1000), (3949, 9232), (2030, 999), (1022, 2811), (496, 1001)]\n",
            "(496496, 1017912, 1390288, 2027970, 2270192, 2872842, 3949000, 4562704, 4670540, 5690090, 9303490, 9407510, 11088792, 18185145, 18684120, 36457168)\n",
            "(0.006304025650024414, 0.03277325630187988, 0.02107071876525879, 0.058923959732055664, 0.04945993423461914, 0.05781197547912598, 0.17069697380065918, 0.07315587997436523, 0.11650514602661133, 0.5265328884124756, 0.3209240436553955, 0.2663581371307373, 0.5175437927246094, 0.7433681488037109, 0.48981595039367676, 1.5305511951446533)\n",
            "(0.015607118606567383, 0.07822322845458984, 0.12635493278503418, 0.19739222526550293, 0.10067892074584961, 0.148468017578125, 0.6989340782165527, 0.21492409706115723, 0.26788997650146484, 0.8551311492919922, 1.0573740005493164, 0.43714404106140137, 1.934736967086792, 2.7314722537994385, 1.605633020401001, 5.48197603225708)\n"
          ]
        }
      ],
      "source": [
        "print(nxm_values_tuples_sim)\n",
        "\n",
        "data = list(zip(nxm_values_sim, rhe_runtimes_sim, he_runtimes_sim))\n",
        "sorted_data = sorted(data, key=lambda x: x[0])\n",
        "sorted_nxm_values_sim, sorted_rhe_runtimes_sim, sorted_he_runtimes_sim = zip(*sorted_data)\n",
        "\n",
        "print(sorted_nxm_values_sim)\n",
        "print(sorted_rhe_runtimes_sim)\n",
        "print(sorted_he_runtimes_sim)"
      ]
    },
    {
      "cell_type": "code",
      "execution_count": 36,
      "id": "V1wyL9hTX85J",
      "metadata": {
        "colab": {
          "base_uri": "https://localhost:8080/",
          "height": 472
        },
        "id": "V1wyL9hTX85J",
        "outputId": "0f3091a2-0520-4264-c020-b4cbb8815ba6"
      },
      "outputs": [
        {
          "data": {
            "image/png": "[encoded data removed]",
            "text/plain": [
              "<Figure size 640x480 with 1 Axes>"
            ]
          },
          "metadata": {},
          "output_type": "display_data"
        }
      ],
      "source": [
        "plt.plot(sorted_nxm_values_sim, sorted_rhe_runtimes_sim, label='RHE')\n",
        "plt.plot(sorted_nxm_values_sim, sorted_he_runtimes_sim, label='HE')\n",
        "plt.xlabel('NxM')\n",
        "plt.ylabel('Run Time (s)')\n",
        "plt.title('RHE and HE Python Run Times vs NxM of the Simulated Genotype Matrix')\n",
        "plt.legend()\n",
        "plt.show()"
      ]
    },
    {
      "cell_type": "code",
      "execution_count": 37,
      "id": "1_usgDF1aEjP",
      "metadata": {
        "colab": {
          "base_uri": "https://localhost:8080/"
        },
        "id": "1_usgDF1aEjP",
        "outputId": "5f3c30f9-b8d3-4e32-a94e-838af5c6c4f3"
      },
      "outputs": [
        {
          "name": "stdout",
          "output_type": "stream",
          "text": [
            "Interpolated RHE runtime with simulated genotype file: 7974.850494708581 seconds\n",
            "Interpolated HE runtime with simulated genotype file: 29703.066640541638 seconds\n"
          ]
        }
      ],
      "source": [
        "ukbb_N = 300000\n",
        "ukbb_M = 454000\n",
        "\n",
        "rhe_interp_func = interp1d(sorted_nxm_values_sim, sorted_rhe_runtimes_sim, fill_value='extrapolate')\n",
        "he_interp_func = interp1d(sorted_nxm_values_sim, sorted_he_runtimes_sim, fill_value='extrapolate')\n",
        "\n",
        "rhe_interpolated = rhe_interp_func(ukbb_N * ukbb_M )\n",
        "he_interpolated = he_interp_func(ukbb_N * ukbb_M )\n",
        "\n",
        "print(f\"Interpolated RHE runtime with simulated genotype file: {rhe_interpolated} seconds\")\n",
        "print(f\"Interpolated HE runtime with simulated genotype file: {he_interpolated} seconds\")"
      ]
    },
    {
      "cell_type": "code",
      "execution_count": 55,
      "id": "c6c470e4",
      "metadata": {},
      "outputs": [],
      "source": [
        "from bed_reader import to_bed\n",
        "for i, X in enumerate(geno_matrices):\n",
        "    plink_bed_file = f\"/Users/nijiayi/RHE_project/simulated_geno/simulated_geno_{i+1}.bed\"\n",
        "    \n",
        "    to_bed(plink_bed_file, X)"
      ]
    },
    {
      "cell_type": "code",
      "execution_count": 59,
      "id": "63bdb9f7",
      "metadata": {},
      "outputs": [],
      "source": [
        "for i, matrix in enumerate(pheno_matrices):\n",
        "    file_name = f\"/Users/nijiayi/RHE_project/simulated_geno/simulated_pheno_{i+1}.pheno\"\n",
        "    \n",
        "    with open(file_name, 'w') as f:\n",
        "        num_rows = matrix.shape[0]\n",
        "        \n",
        "        f.write(\"FID IID 1\\n\")\n",
        "        \n",
        "        for row_idx in range(num_rows):\n",
        "            fid = row_idx + 1  \n",
        "            iid = 1 \n",
        "            value = str(matrix[row_idx]).strip('[]')\n",
        "            f.write(f\"{fid} {iid} {value}\\n\")"
      ]
    },
    {
      "cell_type": "markdown",
      "id": "z8-hAwuOzFbo",
      "metadata": {
        "id": "z8-hAwuOzFbo"
      },
      "source": [
        "## C++ Implementation benchmark:"
      ]
    },
    {
      "cell_type": "markdown",
      "id": "NpIL0Yf6zTwS",
      "metadata": {
        "id": "NpIL0Yf6zTwS"
      },
      "source": [
        "Using Actual Genotypes:"
      ]
    },
    {
      "cell_type": "code",
      "execution_count": null,
      "id": "kRvx3fyGzTMJ",
      "metadata": {
        "id": "kRvx3fyGzTMJ"
      },
      "outputs": [],
      "source": []
    },
    {
      "cell_type": "markdown",
      "id": "O5Jsn33rzWXr",
      "metadata": {
        "id": "O5Jsn33rzWXr"
      },
      "source": [
        "Using Simulated Genotypes:\n"
      ]
    },
    {
      "cell_type": "code",
      "execution_count": null,
      "id": "bpLXXDTGzN0g",
      "metadata": {
        "id": "bpLXXDTGzN0g"
      },
      "outputs": [],
      "source": []
    },
    {
      "cell_type": "code",
      "execution_count": null,
      "id": "-jaTHqgJzIdz",
      "metadata": {
        "id": "-jaTHqgJzIdz"
      },
      "outputs": [],
      "source": []
    },
    {
      "cell_type": "markdown",
      "id": "65a00019",
      "metadata": {
        "id": "65a00019"
      },
      "source": [
        "## 3*.  If you are able to do these and get some sensible results, one extra task is to take a look at how RHE imputes & standardizes the genotype matrix, and see if you can implement it in python"
      ]
    },
    {
      "cell_type": "code",
      "execution_count": 21,
      "id": "703ad33d",
      "metadata": {
        "id": "703ad33d"
      },
      "outputs": [],
      "source": []
    }
  ],
  "metadata": {
    "colab": {
      "provenance": [],
      "toc_visible": true
    },
    "kernelspec": {
      "display_name": "Python 3 (ipykernel)",
      "language": "python",
      "name": "python3"
    },
    "language_info": {
      "codemirror_mode": {
        "name": "ipython",
        "version": 3
      },
      "file_extension": ".py",
      "mimetype": "text/x-python",
      "name": "python",
      "nbconvert_exporter": "python",
      "pygments_lexer": "ipython3",
      "version": "3.9.16"
    }
  },
  "nbformat": 4,
  "nbformat_minor": 5
}
