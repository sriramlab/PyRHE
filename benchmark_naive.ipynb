{
  "cells": [
    {
      "cell_type": "code",
      "execution_count": 67,
      "id": "34cad001",
      "metadata": {
        "colab": {
          "base_uri": "https://localhost:8080/"
        },
        "id": "34cad001",
        "outputId": "c58e1d49-e85a-49ce-9c08-3081c18d96fa"
      },
      "outputs": [],
      "source": [
        "import pandas as pd\n",
        "import numpy as np\n",
        "import scipy\n",
        "from sklearn.preprocessing import StandardScaler\n",
        "from bed_reader import open_bed, sample_file"
      ]
    },
    {
      "cell_type": "code",
      "execution_count": 68,
      "id": "220d3bc3",
      "metadata": {
        "id": "220d3bc3"
      },
      "outputs": [],
      "source": [
        "def simulator(X, sigma):\n",
        "    '''\n",
        "    Simulate phenotype y from X and sigmas\n",
        "    '''\n",
        "    N = X.shape[0]\n",
        "    M = X.shape[1]\n",
        "    y = np.zeros((N,1))\n",
        "    sigma_epsilon=1 - sigma # environmental effect sizes\n",
        "    betas = np.random.randn(M,1)*np.sqrt(sigma) # additive SNP effect sizes\n",
        "    y += X@betas/np.sqrt(M)\n",
        "    #print(f'sigma_epislon={sigma_epsilon}')\n",
        "    y += np.random.randn(N,1)*np.sqrt(sigma_epsilon) # add the effect sizes\n",
        "    return y, betas\n",
        "\n",
        "def solve_linear_equation(X, y):\n",
        "    '''\n",
        "    Solve least square\n",
        "    '''\n",
        "    sigma = np.linalg.lstsq(X, y, rcond=None)[0]\n",
        "    return sigma\n",
        "\n",
        "\n",
        "def solve_linear_qr(X, y):\n",
        "    '''\n",
        "    Solve least square using QR decomposition\n",
        "    '''\n",
        "    Q, R = scipy.linalg.qr(X)\n",
        "    sigma = scipy.linalg.solve_triangular(R, np.dot(Q.T, y))\n",
        "    return sigma\n",
        "\n",
        "def RHE(X,y,num_random_vect=10,seed=1,verbose=False):\n",
        "    '''\n",
        "    RHE estimation\n",
        "    '''\n",
        "    np.random.seed(seed)\n",
        "    N = X.shape[0]\n",
        "    M = X.shape[1]\n",
        "    T = np.zeros((2,2))\n",
        "    q = np.zeros((2,1))\n",
        "\n",
        "    Xi = X.copy()/np.sqrt(M)\n",
        "    for _ in range(num_random_vect):\n",
        "        # Generate random vector to estimate trace\n",
        "        rand_vector = np.random.randn(N,1)\n",
        "        T[0,0] += rand_vector.T@Xi@Xi.T@Xi@Xi.T@rand_vector/num_random_vect\n",
        "\n",
        "    T[1,0] = np.trace(Xi@Xi.T)\n",
        "    T[0,1] = T[1,0]\n",
        "    T[1,1] = N\n",
        "\n",
        "    q[0] = y.T@Xi@Xi.T@y\n",
        "    q[1] = y.T@y\n",
        "\n",
        "    if verbose:\n",
        "        print(T)\n",
        "    sigma_est = solve_linear_equation(T,q)\n",
        "    return sigma_est\n",
        "\n",
        "\n",
        "def HE (X, y, verbose = False):\n",
        "    '''\n",
        "    HE estimation (without using random vectors)\n",
        "    '''\n",
        "    N = X.shape[0]\n",
        "    M = X.shape[1]\n",
        "    T = np.zeros((2,2))\n",
        "    q = np.zeros((2,1))\n",
        "\n",
        "    Xi = X.copy()/np.sqrt(M)\n",
        "    T[0,0] = np.trace(Xi@Xi.T@Xi@Xi.T)\n",
        "    T[1,0] = np.trace(Xi@Xi.T)\n",
        "    T[0,1] = T[1,0]\n",
        "    T[1,1] = N\n",
        "\n",
        "    q[0] = y.T@Xi@Xi.T@y\n",
        "    q[1] = y.T@y\n",
        "\n",
        "    if verbose:\n",
        "        print(T)\n",
        "\n",
        "    sigma_est = solve_linear_equation(T,q)\n",
        "    return sigma_est"
      ]
    },
    {
      "cell_type": "markdown",
      "id": "f60f735f",
      "metadata": {
        "id": "f60f735f"
      },
      "source": [
        "## In the cell below, we simulate the genotype matrix by taking random samples of the MAF for each SNP from a uniform distribution. Then for each individual (based on the MAF of that SNP), run a Bernoulli trial to get the genotype value at that location (i.e., whether the individual has the SNP or not; either 0,1 or 2)\n",
        "I'll also share the genotype matrices for you to benchmark RHE and the python version (here), but this a very simple simulation. For instance, here we don't consider the LD structure here at all."
      ]
    },
    {
      "cell_type": "code",
      "execution_count": 69,
      "id": "f794da77",
      "metadata": {
        "colab": {
          "base_uri": "https://localhost:8080/"
        },
        "id": "f794da77",
        "outputId": "9a8ea9ba-2164-467f-ec28-856b52f9615a"
      },
      "outputs": [
        {
          "name": "stdout",
          "output_type": "stream",
          "text": [
            "Actual sigmas are: 0.3\n",
            "RHE estimated sigmas are: [0.27646048] [0.71014217] \n",
            "HE estimated sigmas are: [0.28039846] [0.7062042]\n"
          ]
        }
      ],
      "source": [
        "M=100 # M = 500000\n",
        "N=10000  # N=300000\n",
        "target_index=1\n",
        "sigmas_list=[0.3]\n",
        "# t0 = time()\n",
        "for i in range(1):\n",
        "    np.random.seed(i)\n",
        "    sigmas=sigmas_list[i]\n",
        "\n",
        "    MAFs = np.random.uniform(0.01,0.5,M)\n",
        "\n",
        "    P_matrix = np.tile(MAFs, (N, 1))\n",
        "\n",
        "    # num of success in 2 trials\n",
        "    X = np.random.binomial(2, P_matrix) # X here is the un-standardized, raw genotype matrix (entries are 0, 1, or 2)\n",
        "\n",
        "    X = StandardScaler().fit_transform(X) # standardize X\n",
        "\n",
        "    y, beta_list = simulator(X, sigmas) # generate phenotype with some beta values\n",
        "\n",
        "    print(f'Actual sigmas are: {sigmas}')\n",
        "    sigma_est=RHE(X,y,num_random_vect=10,seed=42) # run py-RHE\n",
        "    sigma_est2=HE(X, y)\n",
        "\n",
        "    print ('RHE estimated sigmas are:',*sigma_est, '\\nHE estimated sigmas are:', *sigma_est2)"
      ]
    },
    {
      "cell_type": "markdown",
      "id": "703ba44d",
      "metadata": {
        "id": "703ba44d"
      },
      "source": [
        "## And here's an (almost) identical code but instead of simulating genotype, it reads in the genotype file (.bed) using the bed-reader. One major difference is, in real genotype, there is often missingness, which needs to be imputed.\n",
        "### Here's one way of imputing: simply replace the missing values by the average of non-missing entries for that SNP. This is different than what's done in the RHE code.\n"
      ]
    },
    {
      "cell_type": "code",
      "execution_count": 70,
      "id": "e540a2a2",
      "metadata": {
        "id": "e540a2a2"
      },
      "outputs": [],
      "source": [
        "'''\n",
        "impute the genotype matrix for any missingness by using the average of other samples\n",
        "this function also standardizes it\n",
        "'''\n",
        "def impute_geno(X):\n",
        "    N = X.shape[0]\n",
        "    M = X.shape[1]\n",
        "    X_imp = X.copy()\n",
        "    for m in range(M):\n",
        "        cnt = 0\n",
        "        csum = 0\n",
        "        for n in range(N):\n",
        "            if not np.isnan(X[n, m]):\n",
        "                cnt += 1\n",
        "                csum += X[n,m]\n",
        "        csum /= cnt\n",
        "        X_imp[:,m] = np.nan_to_num(X_imp[:,m], nan=csum*0.5)\n",
        "    X_imp = (X_imp-np.mean(X_imp, axis=0))/np.std(X_imp, axis=0)\n",
        "    return X_imp"
      ]
    },
    {
      "cell_type": "code",
      "execution_count": 120,
      "id": "e0a3553b",
      "metadata": {
        "colab": {
          "base_uri": "https://localhost:8080/"
        },
        "id": "e0a3553b",
        "outputId": "0c1d5557-ddfd-40e0-a576-3a2345aa7fb9"
      },
      "outputs": [],
      "source": [
        "geno_path=\"/Users/nijiayi/RHE_project/geno/actual_geno_1.bed\"\n",
        "bed = open_bed(geno_path)\n",
        "X = bed.read()"
      ]
    },
    {
      "cell_type": "code",
      "execution_count": 121,
      "id": "63e3bcce",
      "metadata": {
        "id": "63e3bcce"
      },
      "outputs": [],
      "source": [
        "X_imp = impute_geno(X)"
      ]
    },
    {
      "cell_type": "code",
      "execution_count": 122,
      "id": "c5fda16b",
      "metadata": {
        "colab": {
          "base_uri": "https://localhost:8080/"
        },
        "id": "c5fda16b",
        "outputId": "4f1dbf59-3c3c-41ee-b3c1-067992b6df05"
      },
      "outputs": [
        {
          "name": "stdout",
          "output_type": "stream",
          "text": [
            "Actual sigmas are: 0.2\n",
            "RHE estimated sigmas are: [0.19589427] [0.85304969] \n",
            "HE estimated sigmas are: [0.2025172] [0.84642676]\n"
          ]
        }
      ],
      "source": [
        "sigma = 0.2\n",
        "y, beta_list = simulator(X_imp, sigma) # generate phenotype with some beta values\n",
        "\n",
        "print(f'Actual sigmas are: {sigma}')\n",
        "sigma_est=RHE(X_imp,y,num_random_vect=10,seed=42) # run py-RHE\n",
        "sigma_est2=HE(X_imp, y) # run exact-HE\n",
        "\n",
        "print ('RHE estimated sigmas are:',*sigma_est, '\\nHE estimated sigmas are:', *sigma_est2)"
      ]
    },
    {
      "cell_type": "markdown",
      "id": "41ed1dfd",
      "metadata": {
        "id": "41ed1dfd"
      },
      "source": [
        "## TODO: In the \"geno\" directory, you will find several genotype (.bed) files with multiple combinations of N (samples) and M (snps). As discussed in our meeting:\n",
        "\n",
        "## 1. Benchmark the python version of RHE & HE and the original, C++ version on those genotypes files and plot the run time (y-axis) against NxM (x-axis), and interpolate to large samples (UKBB) of 300k individuals x 454k SNPs.\n",
        "\n",
        "## 2. Repeat the same, but using the simulated genotypes\n",
        "For simulated phenotypes, to run it on the C++ RHE, you'd have to port the matrix into PLINK bed. Read https://zzz.bwh.harvard.edu/plink/binary.shtml for how the encoding works. You might also want to take a look at this documentation for packages that does it: https://rdrr.io/cran/genio/man/write_bed.html"
      ]
    },
    {
      "cell_type": "code",
      "execution_count": 123,
      "id": "EpsQDZJgRHE6",
      "metadata": {
        "id": "EpsQDZJgRHE6"
      },
      "outputs": [],
      "source": [
        "import numpy as np\n",
        "import time\n",
        "import matplotlib.pyplot as plt\n",
        "import glob\n",
        "from scipy.interpolate import interp1d"
      ]
    },
    {
      "cell_type": "code",
      "execution_count": 124,
      "id": "__Kptx9kQYEB",
      "metadata": {
        "colab": {
          "base_uri": "https://localhost:8080/"
        },
        "id": "__Kptx9kQYEB",
        "outputId": "9b1b91d9-0eda-4b6d-e18c-2aa890bbcb74"
      },
      "outputs": [
        {
          "name": "stdout",
          "output_type": "stream",
          "text": [
            "['/Users/nijiayi/RHE_project/geno/actual_geno_1.bed', '/Users/nijiayi/RHE_project/geno/actual_geno_2.bed', '/Users/nijiayi/RHE_project/geno/actual_geno_3.bed', '/Users/nijiayi/RHE_project/geno/actual_geno_4.bed', '/Users/nijiayi/RHE_project/geno/actual_geno_5.bed', '/Users/nijiayi/RHE_project/geno/actual_geno_6.bed', '/Users/nijiayi/RHE_project/geno/actual_geno_7.bed', '/Users/nijiayi/RHE_project/geno/actual_geno_8.bed', '/Users/nijiayi/RHE_project/geno/actual_geno_9.bed', '/Users/nijiayi/RHE_project/geno/actual_geno_10.bed', '/Users/nijiayi/RHE_project/geno/actual_geno_11.bed', '/Users/nijiayi/RHE_project/geno/actual_geno_12.bed', '/Users/nijiayi/RHE_project/geno/actual_geno_13.bed', '/Users/nijiayi/RHE_project/geno/actual_geno_14.bed', '/Users/nijiayi/RHE_project/geno/actual_geno_15.bed', '/Users/nijiayi/RHE_project/geno/actual_geno_16.bed']\n"
          ]
        }
      ],
      "source": [
        "rhe_runtimes = []\n",
        "he_runtimes = []\n",
        "nxm_values = []\n",
        "n_values = []\n",
        "m_values = []\n",
        "\n",
        "directory = \"/Users/nijiayi/RHE_project/geno/\"\n",
        "\n",
        "genotype_files = glob.glob(directory + \"actual_geno_*.bed\")\n",
        "\n",
        "genotype_files.sort(key=lambda x: int(x.split(\"_\")[-1].split(\".\")[0]))\n",
        "\n",
        "print(genotype_files)"
      ]
    },
    {
      "cell_type": "markdown",
      "id": "tJWP4gz0zcMa",
      "metadata": {
        "id": "tJWP4gz0zcMa"
      },
      "source": [
        "Using Actual Genotypes:"
      ]
    },
    {
      "cell_type": "code",
      "execution_count": 125,
      "id": "IY8sc9UdQirt",
      "metadata": {
        "id": "IY8sc9UdQirt"
      },
      "outputs": [],
      "source": [
        "simulated_pheno_matrices = []\n",
        "\n",
        "for geno_path in genotype_files:\n",
        "    bed = open_bed(geno_path)\n",
        "    X = bed.read()\n",
        "    nxm_values.append(X.shape[0] * X.shape[1])\n",
        "    n_values.append(X.shape[0])\n",
        "    m_values.append(X.shape[1])\n",
        "    X_imp = impute_geno(X)\n",
        "\n",
        "    np.random.seed(0)\n",
        "\n",
        "    sigma = 0.2\n",
        "    y, beta_list = simulator(X_imp, sigma) # Generate phenotype with some beta values\n",
        "    simulated_pheno_matrices.append(y)\n",
        "    \n",
        "\n",
        "    # runtime for RHE\n",
        "    start_time = time.time()\n",
        "    sigma_est = RHE(X_imp, y, num_random_vect=10, seed=42)\n",
        "    end_time = time.time()\n",
        "    rhe_runtime = end_time - start_time\n",
        "    rhe_runtimes.append(rhe_runtime)\n",
        "\n",
        "    # runtime for HE\n",
        "    start_time = time.time()\n",
        "    sigma_est2 = HE(X_imp, y)\n",
        "    end_time = time.time()\n",
        "    he_runtime = end_time - start_time\n",
        "    he_runtimes.append(he_runtime)"
      ]
    },
    {
      "cell_type": "code",
      "execution_count": 126,
      "id": "t6-REW2rgIw0",
      "metadata": {
        "id": "t6-REW2rgIw0"
      },
      "outputs": [],
      "source": [
        "data = list(zip(nxm_values, rhe_runtimes, he_runtimes))\n",
        "sorted_data = sorted(data, key=lambda x: x[0])\n",
        "sorted_nxm_values, sorted_rhe_runtimes, sorted_he_runtimes = zip(*sorted_data)"
      ]
    },
    {
      "cell_type": "code",
      "execution_count": 127,
      "id": "qzYp8Y5TRamP",
      "metadata": {
        "colab": {
          "base_uri": "https://localhost:8080/",
          "height": 472
        },
        "id": "qzYp8Y5TRamP",
        "outputId": "4c6aa8a2-112f-444d-c533-a14e765502b7"
      },
      "outputs": [
        {
          "data": {
            "image/png": "[encoded data removed]",
            "text/plain": [
              "<Figure size 640x480 with 1 Axes>"
            ]
          },
          "metadata": {},
          "output_type": "display_data"
        }
      ],
      "source": [
        "plt.plot(sorted_nxm_values, sorted_rhe_runtimes, label='RHE')\n",
        "plt.plot(sorted_nxm_values, sorted_he_runtimes, label='HE')\n",
        "plt.xlabel('NxM')\n",
        "plt.ylabel('Run Time (s)')\n",
        "plt.title('RHE and HE Python Run Times vs NxM of the Genotype Matrix')\n",
        "plt.legend()\n",
        "plt.show()"
      ]
    },
    {
      "cell_type": "code",
      "execution_count": 128,
      "id": "6ikmSPm_S0ff",
      "metadata": {
        "colab": {
          "base_uri": "https://localhost:8080/"
        },
        "id": "6ikmSPm_S0ff",
        "outputId": "5312772f-575e-4530-a928-e9537bb199b9"
      },
      "outputs": [
        {
          "name": "stdout",
          "output_type": "stream",
          "text": [
            "Interpolated RHE runtime with actual genotype file: 20862.865399187904 seconds\n",
            "Interpolated HE runtime with actual genotype file: 12237.555030772517 seconds\n"
          ]
        }
      ],
      "source": [
        "# interpolate\n",
        "ukbb_N = 300000\n",
        "ukbb_M = 454000\n",
        "\n",
        "rhe_interp_func = interp1d(sorted_nxm_values, sorted_rhe_runtimes, fill_value='extrapolate')\n",
        "he_interp_func = interp1d(sorted_nxm_values, sorted_he_runtimes, fill_value='extrapolate')\n",
        "\n",
        "rhe_interpolated = rhe_interp_func(ukbb_N * ukbb_M )\n",
        "he_interpolated = he_interp_func(ukbb_N * ukbb_M )\n",
        "\n",
        "print(f\"Interpolated RHE runtime with actual genotype file: {rhe_interpolated} seconds\")\n",
        "print(f\"Interpolated HE runtime with actual genotype file: {he_interpolated} seconds\")"
      ]
    },
    {
      "cell_type": "code",
      "execution_count": 129,
      "id": "cf70b419",
      "metadata": {},
      "outputs": [],
      "source": [
        "for i, matrix in enumerate(simulated_pheno_matrices):\n",
        "    file_name = f\"/Users/nijiayi/RHE_project/geno/simulated_pheno_{i+1}.pheno\"\n",
        "    \n",
        "    with open(file_name, 'w') as f:\n",
        "        num_rows = matrix.shape[0]\n",
        "        \n",
        "        f.write(\"FID IID 1\\n\")\n",
        "        \n",
        "        for row_idx in range(num_rows):\n",
        "            fid = row_idx + 1  \n",
        "            iid = 1 \n",
        "            value = str(matrix[row_idx]).strip('[]')\n",
        "            f.write(f\"{fid} {iid} {value}\\n\")"
      ]
    },
    {
      "cell_type": "code",
      "execution_count": 130,
      "id": "bf374efe",
      "metadata": {},
      "outputs": [],
      "source": [
        "for i in range(len(m_values)):\n",
        "    file_name = f\"/Users/nijiayi/RHE_project/geno/annot_{i+1}.txt\"\n",
        "    num_cols = m_values[i]\n",
        "    \n",
        "    annotation = [1] * num_cols\n",
        "    \n",
        "    with open(file_name, 'w') as f:\n",
        "        for value in annotation:\n",
        "            f.write(f\"{value}\\n\")"
      ]
    },
    {
      "cell_type": "markdown",
      "id": "ZNDhRhGZUFuz",
      "metadata": {
        "id": "ZNDhRhGZUFuz"
      },
      "source": [
        "Using Simulated Genotypes:\n",
        "\n"
      ]
    },
    {
      "cell_type": "code",
      "execution_count": 131,
      "id": "J_aXxMOQUFSL",
      "metadata": {
        "id": "J_aXxMOQUFSL"
      },
      "outputs": [],
      "source": [
        "nxm_values_tuples_sim = []\n",
        "nxm_values_sim = []\n",
        "rhe_runtimes_sim = []\n",
        "he_runtimes_sim = []\n",
        "geno_matrices = []\n",
        "pheno_matrices = []\n",
        "n_values_sim = []\n",
        "m_values_sim = []\n",
        "\n",
        "\n",
        "for geno_path in genotype_files:\n",
        "    bed = open_bed(geno_path)\n",
        "    X = bed.read()\n",
        "\n",
        "    N = X.shape[0]\n",
        "    M = X.shape[1]\n",
        "\n",
        "    nxm_values_tuples_sim.append((N, M))\n",
        "    nxm_values_sim.append(N*M)\n",
        "    n_values_sim.append(N)\n",
        "    m_values_sim.append(M)\n",
        "\n",
        "    np.random.seed(0)\n",
        "\n",
        "    sigma = 0.3\n",
        "\n",
        "    MAFs = np.random.uniform(0.01, 0.5, M)\n",
        "    P_matrix = np.tile(MAFs, (N, 1))\n",
        "    X = np.random.binomial(2, P_matrix)\n",
        "\n",
        "    geno_matrices.append(X)\n",
        "\n",
        "    X = StandardScaler().fit_transform(X) # standardize X\n",
        "\n",
        "\n",
        "    y, beta_list = simulator(X, sigma)\n",
        "    pheno_matrices.append(y)\n",
        "\n",
        "\n",
        "    # runtime for RHE\n",
        "    start_time = time.time()\n",
        "    sigma_est = RHE(X, y, num_random_vect=10, seed=42)\n",
        "    end_time = time.time()\n",
        "    rhe_runtime_sim = end_time - start_time\n",
        "    rhe_runtimes_sim.append(rhe_runtime_sim)\n",
        "\n",
        "    # runtime for HE\n",
        "    start_time = time.time()\n",
        "    sigma_est2 = HE(X, y)\n",
        "    end_time = time.time()\n",
        "    he_runtime_sim = end_time - start_time\n",
        "    he_runtimes_sim.append(he_runtime_sim)"
      ]
    },
    {
      "cell_type": "code",
      "execution_count": 132,
      "id": "0O4LbfanX6Ge",
      "metadata": {
        "colab": {
          "base_uri": "https://localhost:8080/"
        },
        "id": "0O4LbfanX6Ge",
        "outputId": "f8b998f3-bff0-4386-ee15-5cd6b6c29cd6"
      },
      "outputs": [
        {
          "name": "stdout",
          "output_type": "stream",
          "text": [
            "[(1022, 996), (1022, 2811), (1022, 4570), (1022, 9205), (2030, 999), (2030, 2803), (2030, 4583), (2030, 9204), (3949, 1000), (3949, 2808), (3949, 4605), (3949, 9232), (496, 1001), (496, 2803), (496, 4577), (496, 9199)]\n"
          ]
        }
      ],
      "source": [
        "print(nxm_values_tuples_sim)\n",
        "\n",
        "data = list(zip(nxm_values_sim, rhe_runtimes_sim, he_runtimes_sim))\n",
        "sorted_data = sorted(data, key=lambda x: x[0])\n",
        "sorted_nxm_values_sim, sorted_rhe_runtimes_sim, sorted_he_runtimes_sim = zip(*sorted_data)"
      ]
    },
    {
      "cell_type": "code",
      "execution_count": 133,
      "id": "V1wyL9hTX85J",
      "metadata": {
        "colab": {
          "base_uri": "https://localhost:8080/",
          "height": 472
        },
        "id": "V1wyL9hTX85J",
        "outputId": "0f3091a2-0520-4264-c020-b4cbb8815ba6"
      },
      "outputs": [
        {
          "data": {
            "image/png": "[encoded data removed]",
            "text/plain": [
              "<Figure size 640x480 with 1 Axes>"
            ]
          },
          "metadata": {},
          "output_type": "display_data"
        }
      ],
      "source": [
        "plt.plot(sorted_nxm_values_sim, sorted_rhe_runtimes_sim, label='RHE')\n",
        "plt.plot(sorted_nxm_values_sim, sorted_he_runtimes_sim, label='HE')\n",
        "plt.xlabel('NxM')\n",
        "plt.ylabel('Run Time (s)')\n",
        "plt.title('RHE and HE Python Run Times vs NxM of the Simulated Genotype Matrix')\n",
        "plt.legend()\n",
        "plt.show()"
      ]
    },
    {
      "cell_type": "code",
      "execution_count": 134,
      "id": "1_usgDF1aEjP",
      "metadata": {
        "colab": {
          "base_uri": "https://localhost:8080/"
        },
        "id": "1_usgDF1aEjP",
        "outputId": "5f3c30f9-b8d3-4e32-a94e-838af5c6c4f3"
      },
      "outputs": [
        {
          "name": "stdout",
          "output_type": "stream",
          "text": [
            "Interpolated RHE runtime with simulated genotype file: 7747.365343163359 seconds\n",
            "Interpolated HE runtime with simulated genotype file: 36932.327511861906 seconds\n"
          ]
        }
      ],
      "source": [
        "ukbb_N = 300000\n",
        "ukbb_M = 454000\n",
        "\n",
        "rhe_interp_func = interp1d(sorted_nxm_values_sim, sorted_rhe_runtimes_sim, fill_value='extrapolate')\n",
        "he_interp_func = interp1d(sorted_nxm_values_sim, sorted_he_runtimes_sim, fill_value='extrapolate')\n",
        "\n",
        "rhe_interpolated = rhe_interp_func(ukbb_N * ukbb_M )\n",
        "he_interpolated = he_interp_func(ukbb_N * ukbb_M )\n",
        "\n",
        "print(f\"Interpolated RHE runtime with simulated genotype file: {rhe_interpolated} seconds\")\n",
        "print(f\"Interpolated HE runtime with simulated genotype file: {he_interpolated} seconds\")"
      ]
    },
    {
      "cell_type": "code",
      "execution_count": 135,
      "id": "c6c470e4",
      "metadata": {},
      "outputs": [],
      "source": [
        "from bed_reader import to_bed\n",
        "for i, X in enumerate(geno_matrices):\n",
        "    plink_bed_file = f\"/Users/nijiayi/RHE_project/simulated_geno/simulated_geno_{i+1}.bed\"\n",
        "    \n",
        "    to_bed(plink_bed_file, X)"
      ]
    },
    {
      "cell_type": "code",
      "execution_count": 136,
      "id": "63bdb9f7",
      "metadata": {},
      "outputs": [],
      "source": [
        "for i, matrix in enumerate(pheno_matrices):\n",
        "    file_name = f\"/Users/nijiayi/RHE_project/simulated_geno/simulated_pheno_{i+1}.pheno\"\n",
        "    \n",
        "    with open(file_name, 'w') as f:\n",
        "        num_rows = matrix.shape[0]\n",
        "        \n",
        "        f.write(\"FID IID 1\\n\")\n",
        "        \n",
        "        for row_idx in range(num_rows):\n",
        "            fid = row_idx + 1  \n",
        "            iid = 1 \n",
        "            value = str(matrix[row_idx]).strip('[]')\n",
        "            f.write(f\"{fid} {iid} {value}\\n\")"
      ]
    },
    {
      "cell_type": "code",
      "execution_count": 137,
      "id": "ae2ceeb1",
      "metadata": {},
      "outputs": [],
      "source": [
        "for i in range(len(m_values_sim)):\n",
        "    file_name = f\"/Users/nijiayi/RHE_project/simulated_geno/annot_{i+1}.txt\"\n",
        "    num_cols = m_values_sim[i]\n",
        "    \n",
        "    annotation = [1] * num_cols\n",
        "    \n",
        "    with open(file_name, 'w') as f:\n",
        "        for value in annotation:\n",
        "            f.write(f\"{value}\\n\")"
      ]
    },
    {
      "cell_type": "markdown",
      "id": "z8-hAwuOzFbo",
      "metadata": {
        "id": "z8-hAwuOzFbo"
      },
      "source": [
        "## C++ Implementation benchmark:"
      ]
    },
    {
      "cell_type": "markdown",
      "id": "NpIL0Yf6zTwS",
      "metadata": {
        "id": "NpIL0Yf6zTwS"
      },
      "source": [
        "Using Actual Genotypes:"
      ]
    },
    {
      "cell_type": "code",
      "execution_count": 151,
      "id": "kRvx3fyGzTMJ",
      "metadata": {
        "id": "kRvx3fyGzTMJ"
      },
      "outputs": [],
      "source": [
        "actual_geno_execution_times = [.322993322, .477404432, .662269245, 1.050229865, .637805621, .923622242, 1.267064507, 2.080341964, 1.173836188, 1.751093285, 2.10042311, 3.427523425, .161068058, .270833089, .359332574, .644707708]\n",
        "data = list(zip(nxm_values, actual_geno_execution_times))\n",
        "sorted_data = sorted(data, key=lambda x: x[0])\n",
        "sorted_nxm_values, sorted_actual_geno_execution_times = zip(*sorted_data)"
      ]
    },
    {
      "cell_type": "code",
      "execution_count": 152,
      "id": "ed516670",
      "metadata": {},
      "outputs": [
        {
          "data": {
            "image/png": "[encoded data removed]",
            "text/plain": [
              "<Figure size 640x480 with 1 Axes>"
            ]
          },
          "metadata": {},
          "output_type": "display_data"
        }
      ],
      "source": [
        "plt.plot(sorted_nxm_values, sorted_actual_geno_execution_times)\n",
        "plt.xlabel('NxM')\n",
        "plt.ylabel('Run Time (s)')\n",
        "plt.title('C++ Run Times vs NxM of the Genotype Matrix')\n",
        "plt.show()"
      ]
    },
    {
      "cell_type": "code",
      "execution_count": 153,
      "id": "97a796aa",
      "metadata": {},
      "outputs": [
        {
          "name": "stdout",
          "output_type": "stream",
          "text": [
            "Interpolated C++ runtime with actual genotype file: 10324.504727928686 seconds\n"
          ]
        }
      ],
      "source": [
        "# interpolate\n",
        "c_interp_func = interp1d(sorted_nxm_values, sorted_actual_geno_execution_times, fill_value='extrapolate')\n",
        "c_interpolated = c_interp_func(ukbb_N * ukbb_M)\n",
        "\n",
        "print(f\"Interpolated C++ runtime with actual genotype file: {c_interpolated} seconds\")"
      ]
    },
    {
      "cell_type": "markdown",
      "id": "O5Jsn33rzWXr",
      "metadata": {
        "id": "O5Jsn33rzWXr"
      },
      "source": [
        "Using Simulated Genotypes:\n"
      ]
    },
    {
      "cell_type": "code",
      "execution_count": 154,
      "id": "bpLXXDTGzN0g",
      "metadata": {
        "id": "bpLXXDTGzN0g"
      },
      "outputs": [],
      "source": [
        "simulated_geno_execution_times = [.348063566, .476910873, .658174127, 1.056732764, .637850939, .92014164, 1.262463802, 2.071632326, 1.163769716, 1.756920664, 2.350714468, 3.370229823, .159967592, .269802636, .359969131, .640159286]\n",
        "data = list(zip(nxm_values_sim, simulated_geno_execution_times))\n",
        "sorted_data = sorted(data, key=lambda x: x[0])\n",
        "sorted_nxm_values_sim, sorted_simulated_geno_execution_times = zip(*sorted_data)"
      ]
    },
    {
      "cell_type": "code",
      "execution_count": 148,
      "id": "148155f7",
      "metadata": {},
      "outputs": [
        {
          "data": {
            "image/png": "[encoded data removed]",
            "text/plain": [
              "<Figure size 640x480 with 1 Axes>"
            ]
          },
          "metadata": {},
          "output_type": "display_data"
        }
      ],
      "source": [
        "plt.plot(sorted_nxm_values_sim, sorted_simulated_geno_execution_times)\n",
        "plt.xlabel('NxM')\n",
        "plt.ylabel('Run Time (s)')\n",
        "plt.title('C++ Run Times vs NxM of the Simulated Genotype Matrix')\n",
        "plt.show()"
      ]
    },
    {
      "cell_type": "code",
      "execution_count": 155,
      "id": "-jaTHqgJzIdz",
      "metadata": {
        "id": "-jaTHqgJzIdz"
      },
      "outputs": [
        {
          "name": "stdout",
          "output_type": "stream",
          "text": [
            "Interpolated C++ runtime with simulated genotype file: 9952.234144683718 seconds\n"
          ]
        }
      ],
      "source": [
        "# interpolate\n",
        "c_interp_func = interp1d(sorted_nxm_values_sim, sorted_simulated_geno_execution_times, fill_value='extrapolate')\n",
        "c_interpolated = c_interp_func(ukbb_N * ukbb_M)\n",
        "\n",
        "print(f\"Interpolated C++ runtime with simulated genotype file: {c_interpolated} seconds\")"
      ]
    },
    {
      "cell_type": "markdown",
      "id": "65a00019",
      "metadata": {
        "id": "65a00019"
      },
      "source": [
        "## 3*.  If you are able to do these and get some sensible results, one extra task is to take a look at how RHE imputes & standardizes the genotype matrix, and see if you can implement it in python"
      ]
    },
    {
      "cell_type": "code",
      "execution_count": 165,
      "id": "fb985452",
      "metadata": {},
      "outputs": [],
      "source": [
        "def simulate_geno_from_random(p_j):\n",
        "    rval = np.random.random()\n",
        "    dist_pj = [(1-p_j)*(1-p_j), 2*p_j*(1-p_j), p_j*p_j]\n",
        "    \n",
        "    if rval < dist_pj[0]:\n",
        "        return 0\n",
        "    elif rval >= dist_pj[0] and rval < (dist_pj[0] + dist_pj[1]):\n",
        "        return 1\n",
        "    else:\n",
        "        return 2"
      ]
    },
    {
      "cell_type": "code",
      "execution_count": 166,
      "id": "59008bb4",
      "metadata": {},
      "outputs": [],
      "source": [
        "# the encoding of the genotype matrix within the BED file is column by column (process snp1 for all individuals and then snp2)\n",
        "\n",
        "def impute_geno(X):\n",
        "    N = X.shape[0]\n",
        "    M = X.shape[1]\n",
        "    X_imp = X.copy()\n",
        "\n",
        "    for m in range(M):\n",
        "        \n",
        "        observed_sum = 0\n",
        "        observed_ct = 0\n",
        "        for n in range(N):\n",
        "            if not np.isnan(X[n, m]):\n",
        "                observed_ct += 1\n",
        "                observed_sum += X[n, m]\n",
        "        \n",
        "        observed_sum = (observed_sum  / observed_ct)* 0.5\n",
        "\n",
        "        for j in range(N):\n",
        "            if np.isnan(X[j,m]):\n",
        "                X_imp[j, m] = simulate_geno_from_random(observed_sum)\n",
        "                \n",
        "    # standardize\n",
        "    X_imp = (X_imp-np.mean(X_imp, axis=0))/np.std(X_imp, axis=0)\n",
        "\n",
        "    return X_imp"
      ]
    },
    {
      "cell_type": "code",
      "execution_count": 167,
      "id": "281ce53e",
      "metadata": {},
      "outputs": [
        {
          "name": "stdout",
          "output_type": "stream",
          "text": [
            "[[-0.70710678 -0.70710678 -0.70710678  0.70710678]\n",
            " [-0.70710678 -0.70710678 -0.70710678  0.70710678]\n",
            " [ 1.41421356  1.41421356  1.41421356 -1.41421356]]\n"
          ]
        }
      ],
      "source": [
        "X = np.array([\n",
        "        [0, 1, np.nan, 2],\n",
        "        [np.nan, 1, 1, np.nan],\n",
        "        [1, 2, 2, 1]\n",
        "    ])\n",
        "\n",
        "X_imp = impute_geno(X)\n",
        "print(X_imp)"
      ]
    },
    {
      "cell_type": "code",
      "execution_count": null,
      "id": "28382a58",
      "metadata": {},
      "outputs": [],
      "source": []
    }
  ],
  "metadata": {
    "colab": {
      "provenance": [],
      "toc_visible": true
    },
    "kernelspec": {
      "display_name": "Python 3 (ipykernel)",
      "language": "python",
      "name": "python3"
    },
    "language_info": {
      "codemirror_mode": {
        "name": "ipython",
        "version": 3
      },
      "file_extension": ".py",
      "mimetype": "text/x-python",
      "name": "python",
      "nbconvert_exporter": "python",
      "pygments_lexer": "ipython3",
      "version": "3.9.16"
    }
  },
  "nbformat": 4,
  "nbformat_minor": 5
}
