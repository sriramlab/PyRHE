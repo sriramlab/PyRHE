{
 "cells": [
  {
   "cell_type": "code",
   "execution_count": 2,
   "id": "34cad001",
   "metadata": {},
   "outputs": [],
   "source": [
    "import pandas as pd\n",
    "import numpy as np\n",
    "import scipy\n",
    "from sklearn.preprocessing import StandardScaler\n",
    "from bed_reader import open_bed, sample_file"
   ]
  },
  {
   "cell_type": "code",
   "execution_count": 3,
   "id": "220d3bc3",
   "metadata": {},
   "outputs": [],
   "source": [
    "def simulator(X, sigma):\n",
    "    '''\n",
    "    Simulate phenotype y from X and sigmas\n",
    "    '''\n",
    "    N = X.shape[0]\n",
    "    M = X.shape[1]\n",
    "    y = np.zeros((N,1))\n",
    "    sigma_epsilon=1 - sigma # environmental effect sizes\n",
    "    betas = np.random.randn(M,1)*np.sqrt(sigma) # additive SNP effect sizes\n",
    "    y += X@betas/np.sqrt(M)\n",
    "    #print(f'sigma_epislon={sigma_epsilon}')\n",
    "    y += np.random.randn(N,1)*np.sqrt(sigma_epsilon) # add the effect sizes\n",
    "    return y, betas\n",
    "\n",
    "def solve_linear_equation(X, y):\n",
    "    '''\n",
    "    Solve least square\n",
    "    '''\n",
    "    sigma = np.linalg.lstsq(X, y, rcond=None)[0]\n",
    "    return sigma\n",
    "\n",
    "\n",
    "def solve_linear_qr(X, y):\n",
    "    '''\n",
    "    Solve least square using QR decomposition\n",
    "    '''\n",
    "    Q, R = scipy.linalg.qr(X)\n",
    "    sigma = scipy.linalg.solve_triangular(R, np.dot(Q.T, y))\n",
    "    return sigma\n",
    "\n",
    "def RHE(X,y,num_random_vect=10,seed=1,verbose=False):\n",
    "    '''\n",
    "    RHE estimation\n",
    "    '''\n",
    "    np.random.seed(seed)\n",
    "    N = X.shape[0]\n",
    "    M = X.shape[1]\n",
    "    T = np.zeros((2,2))\n",
    "    q = np.zeros((2,1))\n",
    "\n",
    "    Xi = X.copy()/np.sqrt(M)\n",
    "    for _ in range(num_random_vect):\n",
    "        # Generate random vector to estimate trace\n",
    "        rand_vector = np.random.randn(N,1)\n",
    "        T[0,0] += rand_vector.T@Xi@Xi.T@Xi@Xi.T@rand_vector/num_random_vect\n",
    "    \n",
    "    T[1,0] = np.trace(Xi@Xi.T)\n",
    "    T[0,1] = T[1,0]\n",
    "    T[1,1] = N\n",
    "\n",
    "    q[0] = y.T@Xi@Xi.T@y\n",
    "    q[1] = y.T@y\n",
    "\n",
    "    if verbose:\n",
    "        print(T)\n",
    "    sigma_est = solve_linear_equation(T,q)\n",
    "    return sigma_est\n",
    "\n",
    "\n",
    "def HE (X, y, verbose = False):\n",
    "    '''\n",
    "    HE estimation (without using random vectors)\n",
    "    '''\n",
    "    N = X.shape[0]\n",
    "    M = X.shape[1]\n",
    "    T = np.zeros((2,2))\n",
    "    q = np.zeros((2,1))\n",
    "\n",
    "    Xi = X.copy()/np.sqrt(M)\n",
    "    T[0,0] = np.trace(Xi@Xi.T@Xi@Xi.T)\n",
    "    T[1,0] = np.trace(Xi@Xi.T)\n",
    "    T[0,1] = T[1,0]\n",
    "    T[1,1] = N\n",
    "\n",
    "    q[0] = y.T@Xi@Xi.T@y\n",
    "    q[1] = y.T@y\n",
    "\n",
    "    if verbose:\n",
    "        print(T)\n",
    "\n",
    "    sigma_est = solve_linear_equation(T,q)\n",
    "    return sigma_est"
   ]
  },
  {
   "cell_type": "markdown",
   "id": "f60f735f",
   "metadata": {},
   "source": [
    "## In the cell below, we simulate the genotype matrix by taking random samples of the MAF for each SNP from a uniform distribution. Then for each individual (based on the MAF of that SNP), run a Bernoulli trial to get the genotype value at that location (i.e., whether the individual has the SNP or not; either 0,1 or 2) \n",
    "I'll also share the genotype matrices for you to benchmark RHE and the python version (here), but this a very simple simulation. For instance, here we don't consider the LD structure here at all."
   ]
  },
  {
   "cell_type": "code",
   "execution_count": 4,
   "id": "f794da77",
   "metadata": {},
   "outputs": [
    {
     "name": "stdout",
     "output_type": "stream",
     "text": [
      "Actual sigmas are: 0.3\n",
      "RHE estimated sigmas are: [0.27646048] [0.71014217] \n",
      "HE estimated sigmas are: [0.28039846] [0.7062042]\n"
     ]
    }
   ],
   "source": [
    "M=100 # M = 500000\n",
    "N=10000  # N=300000\n",
    "target_index=1\n",
    "sigmas_list=[0.3]\n",
    "# t0 = time()\n",
    "for i in range(1):\n",
    "    np.random.seed(i)\n",
    "    sigmas=sigmas_list[i]\n",
    "\n",
    "    MAFs = np.random.uniform(0.01,0.5,M)\n",
    "\n",
    "    P_matrix = np.tile(MAFs, (N, 1))\n",
    "\n",
    "    X = np.random.binomial(2, P_matrix) # X here is the un-standardized, raw genotype matrix (entries are 0 or 1)\n",
    "\n",
    "    X = StandardScaler().fit_transform(X) # standardize X\n",
    "\n",
    "    y, beta_list = simulator(X, sigmas) # generate phenotype with some beta values\n",
    "\n",
    "    print(f'Actual sigmas are: {sigmas}')\n",
    "    sigma_est=RHE(X,y,num_random_vect=10,seed=42) # run py-RHE\n",
    "    sigma_est2=HE(X, y)\n",
    "\n",
    "    print ('RHE estimated sigmas are:',*sigma_est, '\\nHE estimated sigmas are:', *sigma_est2)"
   ]
  },
  {
   "cell_type": "markdown",
   "id": "703ba44d",
   "metadata": {},
   "source": [
    "## And here's an (almost) identical code but instead of simulating genotype, it reads in the genotype file (.bed) using the bed-reader. One major difference is, in real genotype, there is often missingness, which needs to be imputed.\n",
    "### Here's one way of imputing: simply replace the missing values by the average of non-missing entries for that SNP. This is different than what's done in the RHE code.\n"
   ]
  },
  {
   "cell_type": "code",
   "execution_count": 8,
   "id": "e540a2a2",
   "metadata": {},
   "outputs": [],
   "source": [
    "'''\n",
    "impute the genotype matrix for any missingness by using the average of other samples\n",
    "this function also standardizes it\n",
    "'''\n",
    "def impute_geno(X):\n",
    "    N = X.shape[0]\n",
    "    M = X.shape[1]\n",
    "    X_imp = X.copy()\n",
    "    for m in range(M):\n",
    "        cnt = 0\n",
    "        csum = 0\n",
    "        for n in range(N):\n",
    "            if not np.isnan(X[n, m]):\n",
    "                cnt += 1\n",
    "                csum += X[n,m]\n",
    "        csum /= cnt\n",
    "        X_imp[:,m] = np.nan_to_num(X_imp[:,m], nan=csum*0.5)\n",
    "    X_imp = (X_imp-np.mean(X_imp, axis=0))/np.std(X_imp, axis=0)\n",
    "    return X_imp"
   ]
  },
  {
   "cell_type": "code",
   "execution_count": 6,
   "id": "e0a3553b",
   "metadata": {},
   "outputs": [
    {
     "name": "stdout",
     "output_type": "stream",
     "text": [
      "(1022, 996)\n"
     ]
    }
   ],
   "source": [
    "geno_path=\"./geno/1kindv_1ksnps.bed\"\n",
    "bed = open_bed(geno_path)\n",
    "X = bed.read()\n",
    "print(X.shape)"
   ]
  },
  {
   "cell_type": "code",
   "execution_count": 9,
   "id": "63e3bcce",
   "metadata": {},
   "outputs": [],
   "source": [
    "X_imp = impute_geno(X)"
   ]
  },
  {
   "cell_type": "code",
   "execution_count": 10,
   "id": "c5fda16b",
   "metadata": {},
   "outputs": [
    {
     "name": "stdout",
     "output_type": "stream",
     "text": [
      "Actual sigmas are: 0.2\n",
      "RHE estimated sigmas are: [0.16427573] [0.831989] \n",
      "HE estimated sigmas are: [0.16982968] [0.82643505]\n"
     ]
    }
   ],
   "source": [
    "sigma = 0.2\n",
    "y, beta_list = simulator(X_imp, sigma) # generate phenotype with some beta values\n",
    "\n",
    "print(f'Actual sigmas are: {sigma}')\n",
    "sigma_est=RHE(X_imp,y,num_random_vect=10,seed=42) # run py-RHE\n",
    "sigma_est2=HE(X_imp, y) # run exact-HE\n",
    "\n",
    "print ('RHE estimated sigmas are:',*sigma_est, '\\nHE estimated sigmas are:', *sigma_est2)"
   ]
  },
  {
   "cell_type": "markdown",
   "id": "41ed1dfd",
   "metadata": {},
   "source": [
    "## TODO: In the \"geno\" directory, you will find several genotype (.bed) files with multiple combinations of N (samples) and M (snps). As discussed in our meeting: \n",
    "\n",
    "## 1. Benchmark the python version of RHE & HE and the original, C++ version on those genotypes files and plot the run time (y-axis) against NxM (x-axis), and interpolate to large samples (UKBB) of 300k individuals x 454k SNPs.\n",
    "\n",
    "## 2. Repeat the same, but using the simulated genotypes\n",
    "For simulated phenotypes, to run it on the C++ RHE, you'd have to port the matrix into PLINK bed. Read https://zzz.bwh.harvard.edu/plink/binary.shtml for how the encoding works. You might also want to take a look at this documentation for packages that does it: https://rdrr.io/cran/genio/man/write_bed.html"
   ]
  },
  {
   "cell_type": "markdown",
   "id": "65a00019",
   "metadata": {},
   "source": [
    "## 3*.  If you are able to do these and get some sensible results, one extra task is to take a look at how RHE imputes & standardizes the genotype matrix, and see if you can implement it in python"
   ]
  },
  {
   "cell_type": "code",
   "execution_count": null,
   "id": "703ad33d",
   "metadata": {},
   "outputs": [],
   "source": []
  }
 ],
 "metadata": {
  "kernelspec": {
   "display_name": "Python 3 (ipykernel)",
   "language": "python",
   "name": "python3"
  },
  "language_info": {
   "codemirror_mode": {
    "name": "ipython",
    "version": 3
   },
   "file_extension": ".py",
   "mimetype": "text/x-python",
   "name": "python",
   "nbconvert_exporter": "python",
   "pygments_lexer": "ipython3",
   "version": "3.9.13"
  }
 },
 "nbformat": 4,
 "nbformat_minor": 5
}
